{
  "cells": [
    {
      "cell_type": "markdown",
      "metadata": {
        "id": "view-in-github",
        "colab_type": "text"
      },
      "source": [
        "<a href=\"https://colab.research.google.com/github/abs711/pyspark_stuff/blob/main/Pyspark_basics.ipynb\" target=\"_parent\"><img src=\"https://colab.research.google.com/assets/colab-badge.svg\" alt=\"Open In Colab\"/></a>"
      ]
    },
    {
      "cell_type": "code",
      "execution_count": null,
      "metadata": {
        "colab": {
          "base_uri": "https://localhost:8080/"
        },
        "id": "CT77_YnfWUMs",
        "outputId": "15cda289-d616-4dd5-853b-5e988b44d202"
      },
      "outputs": [
        {
          "output_type": "stream",
          "name": "stdout",
          "text": [
            "Requirement already satisfied: pyspark in /usr/local/lib/python3.10/dist-packages (3.5.0)\n",
            "Requirement already satisfied: py4j==0.10.9.7 in /usr/local/lib/python3.10/dist-packages (from pyspark) (0.10.9.7)\n"
          ]
        }
      ],
      "source": [
        "!pip install pyspark"
      ]
    },
    {
      "cell_type": "markdown",
      "metadata": {
        "id": "XKp8Lbd7VOCf"
      },
      "source": [
        "##Connect to google drive"
      ]
    },
    {
      "cell_type": "code",
      "execution_count": null,
      "metadata": {
        "id": "dNXZeEdBWcTP",
        "colab": {
          "base_uri": "https://localhost:8080/"
        },
        "outputId": "a0b763a8-83df-4588-925d-8bd916ed0024"
      },
      "outputs": [
        {
          "output_type": "stream",
          "name": "stdout",
          "text": [
            "Drive already mounted at /content/drive; to attempt to forcibly remount, call drive.mount(\"/content/drive\", force_remount=True).\n"
          ]
        }
      ],
      "source": [
        "from google.colab import drive\n",
        "\n",
        "# the following command loads up your google drive. It will promp you to give Colab access to your Gdrive\n",
        "drive.mount('/content/drive')"
      ]
    },
    {
      "cell_type": "markdown",
      "metadata": {
        "id": "93iPn-ZtVh0F"
      },
      "source": [
        "##Pandas"
      ]
    },
    {
      "cell_type": "markdown",
      "source": [
        "CSV file available at\n",
        "https://drive.google.com/file/d/1yk4qlDxm_dIs8CLgjGJYhXA_qbx2faq8/view?usp=sharing\n"
      ],
      "metadata": {
        "id": "j227SV8BBHj1"
      }
    },
    {
      "cell_type": "code",
      "execution_count": null,
      "metadata": {
        "colab": {
          "base_uri": "https://localhost:8080/",
          "height": 600
        },
        "id": "0wjHB0t8XLte",
        "outputId": "9f34a80c-7974-42b5-fc00-c7be928112ef"
      },
      "outputs": [
        {
          "output_type": "execute_result",
          "data": {
            "text/plain": [
              "         2023_subject_id   age  sex  mgmt_status  idh_status  survival_days  \\\n",
              "0    BraTS-GLI-00000-000  38.0  1.0          1.0         0.0          224.0   \n",
              "1    BraTS-GLI-00002-000  64.0  2.0          1.0         0.0          313.0   \n",
              "2    BraTS-GLI-00003-000  54.0  1.0          0.0         0.0          241.0   \n",
              "3    BraTS-GLI-00005-000  49.0  1.0          1.0         1.0         1650.0   \n",
              "4    BraTS-GLI-00006-000  37.0  2.0          1.0         0.0         1611.0   \n",
              "..                   ...   ...  ...          ...         ...            ...   \n",
              "457  BraTS-GLI-01142-000  74.0  1.0          1.0         0.0          153.0   \n",
              "458  BraTS-GLI-01143-000  54.0  1.0          1.0         0.0          727.0   \n",
              "459  BraTS-GLI-01144-000  58.0  1.0          0.0         0.0         1048.0   \n",
              "460  BraTS-GLI-01145-000  44.0  2.0          0.0         0.0          567.0   \n",
              "461                  NaN   NaN  NaN          NaN         NaN            NaN   \n",
              "\n",
              "     nr_volume  er_volume  et_volume  tumor_volume   spm_etiv  tumor_burden  \n",
              "0      11738.0    12836.0    32731.0       57305.0  1480170.0      0.038715  \n",
              "1      11248.0   155695.0    23651.0      190594.0  1392388.0      0.136883  \n",
              "2      17214.0    57773.0    24252.0       99239.0  1617269.0      0.061362  \n",
              "3      24187.0    76742.0    23854.0      124783.0  1292510.0      0.096543  \n",
              "4      25506.0    85957.0    26448.0      137911.0  1519600.0      0.090755  \n",
              "..         ...        ...        ...           ...        ...           ...  \n",
              "457    26654.0    57398.0    79560.0      163612.0  1439358.0      0.113670  \n",
              "458    48940.0    45957.0    77776.0      172673.0  1535981.0      0.112419  \n",
              "459     1523.0    69570.0    10930.0       82023.0  1598778.0      0.051304  \n",
              "460    37590.0    58885.0    26259.0      122734.0  1345024.0      0.091250  \n",
              "461        NaN        NaN        NaN           NaN        NaN           NaN  \n",
              "\n",
              "[462 rows x 12 columns]"
            ],
            "text/html": [
              "\n",
              "  <div id=\"df-9d7919a3-b0ba-44cf-a122-44a5a58b2bd8\" class=\"colab-df-container\">\n",
              "    <div>\n",
              "<style scoped>\n",
              "    .dataframe tbody tr th:only-of-type {\n",
              "        vertical-align: middle;\n",
              "    }\n",
              "\n",
              "    .dataframe tbody tr th {\n",
              "        vertical-align: top;\n",
              "    }\n",
              "\n",
              "    .dataframe thead th {\n",
              "        text-align: right;\n",
              "    }\n",
              "</style>\n",
              "<table border=\"1\" class=\"dataframe\">\n",
              "  <thead>\n",
              "    <tr style=\"text-align: right;\">\n",
              "      <th></th>\n",
              "      <th>2023_subject_id</th>\n",
              "      <th>age</th>\n",
              "      <th>sex</th>\n",
              "      <th>mgmt_status</th>\n",
              "      <th>idh_status</th>\n",
              "      <th>survival_days</th>\n",
              "      <th>nr_volume</th>\n",
              "      <th>er_volume</th>\n",
              "      <th>et_volume</th>\n",
              "      <th>tumor_volume</th>\n",
              "      <th>spm_etiv</th>\n",
              "      <th>tumor_burden</th>\n",
              "    </tr>\n",
              "  </thead>\n",
              "  <tbody>\n",
              "    <tr>\n",
              "      <th>0</th>\n",
              "      <td>BraTS-GLI-00000-000</td>\n",
              "      <td>38.0</td>\n",
              "      <td>1.0</td>\n",
              "      <td>1.0</td>\n",
              "      <td>0.0</td>\n",
              "      <td>224.0</td>\n",
              "      <td>11738.0</td>\n",
              "      <td>12836.0</td>\n",
              "      <td>32731.0</td>\n",
              "      <td>57305.0</td>\n",
              "      <td>1480170.0</td>\n",
              "      <td>0.038715</td>\n",
              "    </tr>\n",
              "    <tr>\n",
              "      <th>1</th>\n",
              "      <td>BraTS-GLI-00002-000</td>\n",
              "      <td>64.0</td>\n",
              "      <td>2.0</td>\n",
              "      <td>1.0</td>\n",
              "      <td>0.0</td>\n",
              "      <td>313.0</td>\n",
              "      <td>11248.0</td>\n",
              "      <td>155695.0</td>\n",
              "      <td>23651.0</td>\n",
              "      <td>190594.0</td>\n",
              "      <td>1392388.0</td>\n",
              "      <td>0.136883</td>\n",
              "    </tr>\n",
              "    <tr>\n",
              "      <th>2</th>\n",
              "      <td>BraTS-GLI-00003-000</td>\n",
              "      <td>54.0</td>\n",
              "      <td>1.0</td>\n",
              "      <td>0.0</td>\n",
              "      <td>0.0</td>\n",
              "      <td>241.0</td>\n",
              "      <td>17214.0</td>\n",
              "      <td>57773.0</td>\n",
              "      <td>24252.0</td>\n",
              "      <td>99239.0</td>\n",
              "      <td>1617269.0</td>\n",
              "      <td>0.061362</td>\n",
              "    </tr>\n",
              "    <tr>\n",
              "      <th>3</th>\n",
              "      <td>BraTS-GLI-00005-000</td>\n",
              "      <td>49.0</td>\n",
              "      <td>1.0</td>\n",
              "      <td>1.0</td>\n",
              "      <td>1.0</td>\n",
              "      <td>1650.0</td>\n",
              "      <td>24187.0</td>\n",
              "      <td>76742.0</td>\n",
              "      <td>23854.0</td>\n",
              "      <td>124783.0</td>\n",
              "      <td>1292510.0</td>\n",
              "      <td>0.096543</td>\n",
              "    </tr>\n",
              "    <tr>\n",
              "      <th>4</th>\n",
              "      <td>BraTS-GLI-00006-000</td>\n",
              "      <td>37.0</td>\n",
              "      <td>2.0</td>\n",
              "      <td>1.0</td>\n",
              "      <td>0.0</td>\n",
              "      <td>1611.0</td>\n",
              "      <td>25506.0</td>\n",
              "      <td>85957.0</td>\n",
              "      <td>26448.0</td>\n",
              "      <td>137911.0</td>\n",
              "      <td>1519600.0</td>\n",
              "      <td>0.090755</td>\n",
              "    </tr>\n",
              "    <tr>\n",
              "      <th>...</th>\n",
              "      <td>...</td>\n",
              "      <td>...</td>\n",
              "      <td>...</td>\n",
              "      <td>...</td>\n",
              "      <td>...</td>\n",
              "      <td>...</td>\n",
              "      <td>...</td>\n",
              "      <td>...</td>\n",
              "      <td>...</td>\n",
              "      <td>...</td>\n",
              "      <td>...</td>\n",
              "      <td>...</td>\n",
              "    </tr>\n",
              "    <tr>\n",
              "      <th>457</th>\n",
              "      <td>BraTS-GLI-01142-000</td>\n",
              "      <td>74.0</td>\n",
              "      <td>1.0</td>\n",
              "      <td>1.0</td>\n",
              "      <td>0.0</td>\n",
              "      <td>153.0</td>\n",
              "      <td>26654.0</td>\n",
              "      <td>57398.0</td>\n",
              "      <td>79560.0</td>\n",
              "      <td>163612.0</td>\n",
              "      <td>1439358.0</td>\n",
              "      <td>0.113670</td>\n",
              "    </tr>\n",
              "    <tr>\n",
              "      <th>458</th>\n",
              "      <td>BraTS-GLI-01143-000</td>\n",
              "      <td>54.0</td>\n",
              "      <td>1.0</td>\n",
              "      <td>1.0</td>\n",
              "      <td>0.0</td>\n",
              "      <td>727.0</td>\n",
              "      <td>48940.0</td>\n",
              "      <td>45957.0</td>\n",
              "      <td>77776.0</td>\n",
              "      <td>172673.0</td>\n",
              "      <td>1535981.0</td>\n",
              "      <td>0.112419</td>\n",
              "    </tr>\n",
              "    <tr>\n",
              "      <th>459</th>\n",
              "      <td>BraTS-GLI-01144-000</td>\n",
              "      <td>58.0</td>\n",
              "      <td>1.0</td>\n",
              "      <td>0.0</td>\n",
              "      <td>0.0</td>\n",
              "      <td>1048.0</td>\n",
              "      <td>1523.0</td>\n",
              "      <td>69570.0</td>\n",
              "      <td>10930.0</td>\n",
              "      <td>82023.0</td>\n",
              "      <td>1598778.0</td>\n",
              "      <td>0.051304</td>\n",
              "    </tr>\n",
              "    <tr>\n",
              "      <th>460</th>\n",
              "      <td>BraTS-GLI-01145-000</td>\n",
              "      <td>44.0</td>\n",
              "      <td>2.0</td>\n",
              "      <td>0.0</td>\n",
              "      <td>0.0</td>\n",
              "      <td>567.0</td>\n",
              "      <td>37590.0</td>\n",
              "      <td>58885.0</td>\n",
              "      <td>26259.0</td>\n",
              "      <td>122734.0</td>\n",
              "      <td>1345024.0</td>\n",
              "      <td>0.091250</td>\n",
              "    </tr>\n",
              "    <tr>\n",
              "      <th>461</th>\n",
              "      <td>NaN</td>\n",
              "      <td>NaN</td>\n",
              "      <td>NaN</td>\n",
              "      <td>NaN</td>\n",
              "      <td>NaN</td>\n",
              "      <td>NaN</td>\n",
              "      <td>NaN</td>\n",
              "      <td>NaN</td>\n",
              "      <td>NaN</td>\n",
              "      <td>NaN</td>\n",
              "      <td>NaN</td>\n",
              "      <td>NaN</td>\n",
              "    </tr>\n",
              "  </tbody>\n",
              "</table>\n",
              "<p>462 rows × 12 columns</p>\n",
              "</div>\n",
              "    <div class=\"colab-df-buttons\">\n",
              "\n",
              "  <div class=\"colab-df-container\">\n",
              "    <button class=\"colab-df-convert\" onclick=\"convertToInteractive('df-9d7919a3-b0ba-44cf-a122-44a5a58b2bd8')\"\n",
              "            title=\"Convert this dataframe to an interactive table.\"\n",
              "            style=\"display:none;\">\n",
              "\n",
              "  <svg xmlns=\"http://www.w3.org/2000/svg\" height=\"24px\" viewBox=\"0 -960 960 960\">\n",
              "    <path d=\"M120-120v-720h720v720H120Zm60-500h600v-160H180v160Zm220 220h160v-160H400v160Zm0 220h160v-160H400v160ZM180-400h160v-160H180v160Zm440 0h160v-160H620v160ZM180-180h160v-160H180v160Zm440 0h160v-160H620v160Z\"/>\n",
              "  </svg>\n",
              "    </button>\n",
              "\n",
              "  <style>\n",
              "    .colab-df-container {\n",
              "      display:flex;\n",
              "      gap: 12px;\n",
              "    }\n",
              "\n",
              "    .colab-df-convert {\n",
              "      background-color: #E8F0FE;\n",
              "      border: none;\n",
              "      border-radius: 50%;\n",
              "      cursor: pointer;\n",
              "      display: none;\n",
              "      fill: #1967D2;\n",
              "      height: 32px;\n",
              "      padding: 0 0 0 0;\n",
              "      width: 32px;\n",
              "    }\n",
              "\n",
              "    .colab-df-convert:hover {\n",
              "      background-color: #E2EBFA;\n",
              "      box-shadow: 0px 1px 2px rgba(60, 64, 67, 0.3), 0px 1px 3px 1px rgba(60, 64, 67, 0.15);\n",
              "      fill: #174EA6;\n",
              "    }\n",
              "\n",
              "    .colab-df-buttons div {\n",
              "      margin-bottom: 4px;\n",
              "    }\n",
              "\n",
              "    [theme=dark] .colab-df-convert {\n",
              "      background-color: #3B4455;\n",
              "      fill: #D2E3FC;\n",
              "    }\n",
              "\n",
              "    [theme=dark] .colab-df-convert:hover {\n",
              "      background-color: #434B5C;\n",
              "      box-shadow: 0px 1px 3px 1px rgba(0, 0, 0, 0.15);\n",
              "      filter: drop-shadow(0px 1px 2px rgba(0, 0, 0, 0.3));\n",
              "      fill: #FFFFFF;\n",
              "    }\n",
              "  </style>\n",
              "\n",
              "    <script>\n",
              "      const buttonEl =\n",
              "        document.querySelector('#df-9d7919a3-b0ba-44cf-a122-44a5a58b2bd8 button.colab-df-convert');\n",
              "      buttonEl.style.display =\n",
              "        google.colab.kernel.accessAllowed ? 'block' : 'none';\n",
              "\n",
              "      async function convertToInteractive(key) {\n",
              "        const element = document.querySelector('#df-9d7919a3-b0ba-44cf-a122-44a5a58b2bd8');\n",
              "        const dataTable =\n",
              "          await google.colab.kernel.invokeFunction('convertToInteractive',\n",
              "                                                    [key], {});\n",
              "        if (!dataTable) return;\n",
              "\n",
              "        const docLinkHtml = 'Like what you see? Visit the ' +\n",
              "          '<a target=\"_blank\" href=https://colab.research.google.com/notebooks/data_table.ipynb>data table notebook</a>'\n",
              "          + ' to learn more about interactive tables.';\n",
              "        element.innerHTML = '';\n",
              "        dataTable['output_type'] = 'display_data';\n",
              "        await google.colab.output.renderOutput(dataTable, element);\n",
              "        const docLink = document.createElement('div');\n",
              "        docLink.innerHTML = docLinkHtml;\n",
              "        element.appendChild(docLink);\n",
              "      }\n",
              "    </script>\n",
              "  </div>\n",
              "\n",
              "\n",
              "<div id=\"df-18f55a3c-6c5d-4ac8-9047-505a4a096307\">\n",
              "  <button class=\"colab-df-quickchart\" onclick=\"quickchart('df-18f55a3c-6c5d-4ac8-9047-505a4a096307')\"\n",
              "            title=\"Suggest charts\"\n",
              "            style=\"display:none;\">\n",
              "\n",
              "<svg xmlns=\"http://www.w3.org/2000/svg\" height=\"24px\"viewBox=\"0 0 24 24\"\n",
              "     width=\"24px\">\n",
              "    <g>\n",
              "        <path d=\"M19 3H5c-1.1 0-2 .9-2 2v14c0 1.1.9 2 2 2h14c1.1 0 2-.9 2-2V5c0-1.1-.9-2-2-2zM9 17H7v-7h2v7zm4 0h-2V7h2v10zm4 0h-2v-4h2v4z\"/>\n",
              "    </g>\n",
              "</svg>\n",
              "  </button>\n",
              "\n",
              "<style>\n",
              "  .colab-df-quickchart {\n",
              "      --bg-color: #E8F0FE;\n",
              "      --fill-color: #1967D2;\n",
              "      --hover-bg-color: #E2EBFA;\n",
              "      --hover-fill-color: #174EA6;\n",
              "      --disabled-fill-color: #AAA;\n",
              "      --disabled-bg-color: #DDD;\n",
              "  }\n",
              "\n",
              "  [theme=dark] .colab-df-quickchart {\n",
              "      --bg-color: #3B4455;\n",
              "      --fill-color: #D2E3FC;\n",
              "      --hover-bg-color: #434B5C;\n",
              "      --hover-fill-color: #FFFFFF;\n",
              "      --disabled-bg-color: #3B4455;\n",
              "      --disabled-fill-color: #666;\n",
              "  }\n",
              "\n",
              "  .colab-df-quickchart {\n",
              "    background-color: var(--bg-color);\n",
              "    border: none;\n",
              "    border-radius: 50%;\n",
              "    cursor: pointer;\n",
              "    display: none;\n",
              "    fill: var(--fill-color);\n",
              "    height: 32px;\n",
              "    padding: 0;\n",
              "    width: 32px;\n",
              "  }\n",
              "\n",
              "  .colab-df-quickchart:hover {\n",
              "    background-color: var(--hover-bg-color);\n",
              "    box-shadow: 0 1px 2px rgba(60, 64, 67, 0.3), 0 1px 3px 1px rgba(60, 64, 67, 0.15);\n",
              "    fill: var(--button-hover-fill-color);\n",
              "  }\n",
              "\n",
              "  .colab-df-quickchart-complete:disabled,\n",
              "  .colab-df-quickchart-complete:disabled:hover {\n",
              "    background-color: var(--disabled-bg-color);\n",
              "    fill: var(--disabled-fill-color);\n",
              "    box-shadow: none;\n",
              "  }\n",
              "\n",
              "  .colab-df-spinner {\n",
              "    border: 2px solid var(--fill-color);\n",
              "    border-color: transparent;\n",
              "    border-bottom-color: var(--fill-color);\n",
              "    animation:\n",
              "      spin 1s steps(1) infinite;\n",
              "  }\n",
              "\n",
              "  @keyframes spin {\n",
              "    0% {\n",
              "      border-color: transparent;\n",
              "      border-bottom-color: var(--fill-color);\n",
              "      border-left-color: var(--fill-color);\n",
              "    }\n",
              "    20% {\n",
              "      border-color: transparent;\n",
              "      border-left-color: var(--fill-color);\n",
              "      border-top-color: var(--fill-color);\n",
              "    }\n",
              "    30% {\n",
              "      border-color: transparent;\n",
              "      border-left-color: var(--fill-color);\n",
              "      border-top-color: var(--fill-color);\n",
              "      border-right-color: var(--fill-color);\n",
              "    }\n",
              "    40% {\n",
              "      border-color: transparent;\n",
              "      border-right-color: var(--fill-color);\n",
              "      border-top-color: var(--fill-color);\n",
              "    }\n",
              "    60% {\n",
              "      border-color: transparent;\n",
              "      border-right-color: var(--fill-color);\n",
              "    }\n",
              "    80% {\n",
              "      border-color: transparent;\n",
              "      border-right-color: var(--fill-color);\n",
              "      border-bottom-color: var(--fill-color);\n",
              "    }\n",
              "    90% {\n",
              "      border-color: transparent;\n",
              "      border-bottom-color: var(--fill-color);\n",
              "    }\n",
              "  }\n",
              "</style>\n",
              "\n",
              "  <script>\n",
              "    async function quickchart(key) {\n",
              "      const quickchartButtonEl =\n",
              "        document.querySelector('#' + key + ' button');\n",
              "      quickchartButtonEl.disabled = true;  // To prevent multiple clicks.\n",
              "      quickchartButtonEl.classList.add('colab-df-spinner');\n",
              "      try {\n",
              "        const charts = await google.colab.kernel.invokeFunction(\n",
              "            'suggestCharts', [key], {});\n",
              "      } catch (error) {\n",
              "        console.error('Error during call to suggestCharts:', error);\n",
              "      }\n",
              "      quickchartButtonEl.classList.remove('colab-df-spinner');\n",
              "      quickchartButtonEl.classList.add('colab-df-quickchart-complete');\n",
              "    }\n",
              "    (() => {\n",
              "      let quickchartButtonEl =\n",
              "        document.querySelector('#df-18f55a3c-6c5d-4ac8-9047-505a4a096307 button');\n",
              "      quickchartButtonEl.style.display =\n",
              "        google.colab.kernel.accessAllowed ? 'block' : 'none';\n",
              "    })();\n",
              "  </script>\n",
              "</div>\n",
              "    </div>\n",
              "  </div>\n"
            ]
          },
          "metadata": {},
          "execution_count": 22
        }
      ],
      "source": [
        "import os\n",
        "import pandas as pd\n",
        "\n",
        "csv_path = '/content/drive/MyDrive'\n",
        "\n",
        "# os.listdir(img_path)\n",
        "filename = os.path.join(csv_path,'brats_462.csv')\n",
        "pd.read_csv(filename)"
      ]
    },
    {
      "cell_type": "markdown",
      "source": [
        "## PySpark"
      ],
      "metadata": {
        "id": "kuwodlK2xkfC"
      }
    },
    {
      "cell_type": "code",
      "execution_count": null,
      "metadata": {
        "id": "60-xvk9MYS6u"
      },
      "outputs": [],
      "source": [
        " from pyspark.sql import SparkSession\n",
        "\n",
        "spark = SparkSession.builder.appName('Brats_EDA').getOrCreate()"
      ]
    },
    {
      "cell_type": "code",
      "execution_count": null,
      "metadata": {
        "colab": {
          "base_uri": "https://localhost:8080/",
          "height": 219
        },
        "id": "i4wcPp-4aKo-",
        "outputId": "bef7ed10-8fb5-4536-b6b6-cf8c8c706103"
      },
      "outputs": [
        {
          "output_type": "execute_result",
          "data": {
            "text/plain": [
              "<pyspark.sql.session.SparkSession at 0x7eeafd795540>"
            ],
            "text/html": [
              "\n",
              "            <div>\n",
              "                <p><b>SparkSession - in-memory</b></p>\n",
              "                \n",
              "        <div>\n",
              "            <p><b>SparkContext</b></p>\n",
              "\n",
              "            <p><a href=\"http://839ae0694ddc:4040\">Spark UI</a></p>\n",
              "\n",
              "            <dl>\n",
              "              <dt>Version</dt>\n",
              "                <dd><code>v3.5.0</code></dd>\n",
              "              <dt>Master</dt>\n",
              "                <dd><code>local[*]</code></dd>\n",
              "              <dt>AppName</dt>\n",
              "                <dd><code>Brats_EDA</code></dd>\n",
              "            </dl>\n",
              "        </div>\n",
              "        \n",
              "            </div>\n",
              "        "
            ]
          },
          "metadata": {},
          "execution_count": 28
        }
      ],
      "source": [
        "spark"
      ]
    },
    {
      "cell_type": "code",
      "execution_count": null,
      "metadata": {
        "id": "fR6UaE_iaQe2"
      },
      "outputs": [],
      "source": [
        "df_pyspark = spark.read.option('header','true').csv(filename)\n"
      ]
    },
    {
      "cell_type": "code",
      "execution_count": null,
      "metadata": {
        "colab": {
          "base_uri": "https://localhost:8080/"
        },
        "id": "6oZWB-Qva7yx",
        "outputId": "43c9aa57-5955-46a2-d6ca-7f22087fb2e3"
      },
      "outputs": [
        {
          "output_type": "execute_result",
          "data": {
            "text/plain": [
              "pyspark.sql.dataframe.DataFrame"
            ]
          },
          "metadata": {},
          "execution_count": 30
        }
      ],
      "source": [
        "type(df_pyspark)"
      ]
    },
    {
      "cell_type": "code",
      "execution_count": null,
      "metadata": {
        "colab": {
          "base_uri": "https://localhost:8080/"
        },
        "id": "upcA8Wx6bDg3",
        "outputId": "19d0db6d-a916-4252-9c93-a37a11c54350"
      },
      "outputs": [
        {
          "output_type": "execute_result",
          "data": {
            "text/plain": [
              "[Row(2023_subject_id='BraTS-GLI-00000-000', age='38', sex='1', mgmt_status='1', idh_status='0', survival_days='224', nr_volume='11738', er_volume='12836', et_volume='32731', tumor_volume='57305', spm_etiv='1480170', tumor_burden='0.038715148'),\n",
              " Row(2023_subject_id='BraTS-GLI-00002-000', age='64', sex='2', mgmt_status='1', idh_status='0', survival_days='313', nr_volume='11248', er_volume='155695', et_volume='23651', tumor_volume='190594', spm_etiv='1392388', tumor_burden='0.136882823'),\n",
              " Row(2023_subject_id='BraTS-GLI-00003-000', age='54', sex='1', mgmt_status='0', idh_status='0', survival_days='241', nr_volume='17214', er_volume='57773', et_volume='24252', tumor_volume='99239', spm_etiv='1617269', tumor_burden='0.061362086')]"
            ]
          },
          "metadata": {},
          "execution_count": 31
        }
      ],
      "source": [
        "df_pyspark.head(3)"
      ]
    },
    {
      "cell_type": "markdown",
      "source": [
        "### df_pyspark.printSchema() === df.info()"
      ],
      "metadata": {
        "id": "73V5CXSQx2lK"
      }
    },
    {
      "cell_type": "code",
      "execution_count": null,
      "metadata": {
        "colab": {
          "base_uri": "https://localhost:8080/"
        },
        "id": "2cB1rJsNb7Ur",
        "outputId": "dfe65794-0fb3-4688-c783-01d5f67f749a"
      },
      "outputs": [
        {
          "output_type": "stream",
          "name": "stdout",
          "text": [
            "root\n",
            " |-- 2023_subject_id: string (nullable = true)\n",
            " |-- age: string (nullable = true)\n",
            " |-- sex: string (nullable = true)\n",
            " |-- mgmt_status: string (nullable = true)\n",
            " |-- idh_status: string (nullable = true)\n",
            " |-- survival_days: string (nullable = true)\n",
            " |-- nr_volume: string (nullable = true)\n",
            " |-- er_volume: string (nullable = true)\n",
            " |-- et_volume: string (nullable = true)\n",
            " |-- tumor_volume: string (nullable = true)\n",
            " |-- spm_etiv: string (nullable = true)\n",
            " |-- tumor_burden: string (nullable = true)\n",
            "\n"
          ]
        }
      ],
      "source": [
        "df_pyspark.printSchema()"
      ]
    },
    {
      "cell_type": "markdown",
      "metadata": {
        "id": "wqpAJ7DLchbU"
      },
      "source": [
        "# PySpark DataFrames Exploration"
      ]
    },
    {
      "cell_type": "code",
      "execution_count": null,
      "metadata": {
        "colab": {
          "base_uri": "https://localhost:8080/",
          "height": 219
        },
        "id": "No7V7xswclTH",
        "outputId": "458ef2d4-40af-4e50-9ada-efc04d9a8701"
      },
      "outputs": [
        {
          "output_type": "execute_result",
          "data": {
            "text/plain": [
              "<pyspark.sql.session.SparkSession at 0x7eeafd795540>"
            ],
            "text/html": [
              "\n",
              "            <div>\n",
              "                <p><b>SparkSession - in-memory</b></p>\n",
              "                \n",
              "        <div>\n",
              "            <p><b>SparkContext</b></p>\n",
              "\n",
              "            <p><a href=\"http://839ae0694ddc:4040\">Spark UI</a></p>\n",
              "\n",
              "            <dl>\n",
              "              <dt>Version</dt>\n",
              "                <dd><code>v3.5.0</code></dd>\n",
              "              <dt>Master</dt>\n",
              "                <dd><code>local[*]</code></dd>\n",
              "              <dt>AppName</dt>\n",
              "                <dd><code>Brats_EDA</code></dd>\n",
              "            </dl>\n",
              "        </div>\n",
              "        \n",
              "            </div>\n",
              "        "
            ]
          },
          "metadata": {},
          "execution_count": 34
        }
      ],
      "source": [
        "#spark = SparkSession.builder.appName('DataFrame').getOrCreate()\n",
        "spark"
      ]
    },
    {
      "cell_type": "markdown",
      "source": [
        "### Without inferschema everything is a string\n",
        "### Check datatype of columns using printSchema"
      ],
      "metadata": {
        "id": "-vOeF0_uzCW6"
      }
    },
    {
      "cell_type": "code",
      "execution_count": null,
      "metadata": {
        "colab": {
          "base_uri": "https://localhost:8080/"
        },
        "id": "S4KJJDl9c1dT",
        "outputId": "43abffc2-c62e-48fe-9a1c-23d05858354e"
      },
      "outputs": [
        {
          "output_type": "stream",
          "name": "stdout",
          "text": [
            "root\n",
            " |-- 2023_subject_id: string (nullable = true)\n",
            " |-- age: double (nullable = true)\n",
            " |-- sex: integer (nullable = true)\n",
            " |-- mgmt_status: integer (nullable = true)\n",
            " |-- idh_status: integer (nullable = true)\n",
            " |-- survival_days: integer (nullable = true)\n",
            " |-- nr_volume: integer (nullable = true)\n",
            " |-- er_volume: integer (nullable = true)\n",
            " |-- et_volume: integer (nullable = true)\n",
            " |-- tumor_volume: integer (nullable = true)\n",
            " |-- spm_etiv: integer (nullable = true)\n",
            " |-- tumor_burden: double (nullable = true)\n",
            "\n"
          ]
        },
        {
          "output_type": "execute_result",
          "data": {
            "text/plain": [
              "pyspark.sql.dataframe.DataFrame"
            ]
          },
          "metadata": {},
          "execution_count": 43
        }
      ],
      "source": [
        "df_pyspark = spark.read.option('header','true').csv(filename,inferSchema=True)\n",
        "\"\"\"\n",
        "df_pyspark = spark.read.csv(filename, header= True, inferSchema=True)\n",
        "\"\"\"\n",
        "df_pyspark.printSchema()\n",
        "type(df_pyspark)"
      ]
    },
    {
      "cell_type": "code",
      "execution_count": null,
      "metadata": {
        "colab": {
          "base_uri": "https://localhost:8080/"
        },
        "id": "nf6QnmNUdBJQ",
        "outputId": "4b6280e1-c6c5-4aab-d204-dcfc2891e3ed"
      },
      "outputs": [
        {
          "output_type": "execute_result",
          "data": {
            "text/plain": [
              "['2023_subject_id',\n",
              " 'age',\n",
              " 'sex',\n",
              " 'mgmt_status',\n",
              " 'idh_status',\n",
              " 'survival_days',\n",
              " 'nr_volume',\n",
              " 'er_volume',\n",
              " 'et_volume',\n",
              " 'tumor_volume',\n",
              " 'spm_etiv',\n",
              " 'tumor_burden']"
            ]
          },
          "metadata": {},
          "execution_count": 44
        }
      ],
      "source": [
        "df_pyspark.columns"
      ]
    },
    {
      "cell_type": "code",
      "execution_count": null,
      "metadata": {
        "colab": {
          "base_uri": "https://localhost:8080/"
        },
        "id": "YUgo2J4MeAK4",
        "outputId": "ccba636e-02a7-41fd-9357-46010fdcfbb3"
      },
      "outputs": [
        {
          "output_type": "execute_result",
          "data": {
            "text/plain": [
              "[Row(2023_subject_id='BraTS-GLI-00000-000', age=38.0, sex=1, mgmt_status=1, idh_status=0, survival_days=224, nr_volume=11738, er_volume=12836, et_volume=32731, tumor_volume=57305, spm_etiv=1480170, tumor_burden=0.038715148),\n",
              " Row(2023_subject_id='BraTS-GLI-00002-000', age=64.0, sex=2, mgmt_status=1, idh_status=0, survival_days=313, nr_volume=11248, er_volume=155695, et_volume=23651, tumor_volume=190594, spm_etiv=1392388, tumor_burden=0.136882823),\n",
              " Row(2023_subject_id='BraTS-GLI-00003-000', age=54.0, sex=1, mgmt_status=0, idh_status=0, survival_days=241, nr_volume=17214, er_volume=57773, et_volume=24252, tumor_volume=99239, spm_etiv=1617269, tumor_burden=0.061362086)]"
            ]
          },
          "metadata": {},
          "execution_count": 45
        }
      ],
      "source": [
        "df_pyspark.head(3)"
      ]
    },
    {
      "cell_type": "code",
      "execution_count": null,
      "metadata": {
        "colab": {
          "base_uri": "https://localhost:8080/"
        },
        "id": "834sCDA_eDhu",
        "outputId": "f822e4bc-1930-4599-ae06-76c4c942f9fc"
      },
      "outputs": [
        {
          "output_type": "stream",
          "name": "stdout",
          "text": [
            "+-------------------+----+---+-----------+----------+-------------+---------+---------+---------+------------+--------+------------+\n",
            "|    2023_subject_id| age|sex|mgmt_status|idh_status|survival_days|nr_volume|er_volume|et_volume|tumor_volume|spm_etiv|tumor_burden|\n",
            "+-------------------+----+---+-----------+----------+-------------+---------+---------+---------+------------+--------+------------+\n",
            "|BraTS-GLI-00000-000|38.0|  1|          1|         0|          224|    11738|    12836|    32731|       57305| 1480170| 0.038715148|\n",
            "|BraTS-GLI-00002-000|64.0|  2|          1|         0|          313|    11248|   155695|    23651|      190594| 1392388| 0.136882823|\n",
            "|BraTS-GLI-00003-000|54.0|  1|          0|         0|          241|    17214|    57773|    24252|       99239| 1617269| 0.061362086|\n",
            "+-------------------+----+---+-----------+----------+-------------+---------+---------+---------+------------+--------+------------+\n",
            "only showing top 3 rows\n",
            "\n"
          ]
        }
      ],
      "source": [
        "df_pyspark.show(3)"
      ]
    },
    {
      "cell_type": "markdown",
      "source": [
        "# Selecting columns using df_pyspark.select"
      ],
      "metadata": {
        "id": "IIHxlzsF0J8q"
      }
    },
    {
      "cell_type": "code",
      "execution_count": null,
      "metadata": {
        "colab": {
          "base_uri": "https://localhost:8080/"
        },
        "id": "QNwIOHOUeKcT",
        "outputId": "2306b520-53fc-4d68-f5af-a71f0f34692f"
      },
      "outputs": [
        {
          "output_type": "stream",
          "name": "stdout",
          "text": [
            "+----+---+\n",
            "| age|sex|\n",
            "+----+---+\n",
            "|38.0|  1|\n",
            "|64.0|  2|\n",
            "|54.0|  1|\n",
            "+----+---+\n",
            "only showing top 3 rows\n",
            "\n"
          ]
        }
      ],
      "source": [
        "df_pyspark.select(['age','sex']).show(3)"
      ]
    },
    {
      "cell_type": "markdown",
      "source": [
        "## Using pyspark.sql.functions.max() for max value in a column"
      ],
      "metadata": {
        "id": "oUQLNq1y3gjI"
      }
    },
    {
      "cell_type": "code",
      "source": [
        "from pyspark.sql.functions import max\n",
        "\n",
        "result = df_pyspark.select([max('age')])\n",
        "\n",
        "max_age = result.collect()[0]['max(age)']\n",
        "\n",
        "\n",
        "result = df_pyspark.select([max('survival_days')])\n",
        "\n",
        "max_survival = result.collect()[0]['max(survival_days)']"
      ],
      "metadata": {
        "id": "U6OK2Ykc0i-p"
      },
      "execution_count": null,
      "outputs": []
    },
    {
      "cell_type": "code",
      "execution_count": null,
      "metadata": {
        "colab": {
          "base_uri": "https://localhost:8080/"
        },
        "id": "MAjChq8OeOLM",
        "outputId": "800be5a8-504b-4089-c4b7-7f575cafa696"
      },
      "outputs": [
        {
          "output_type": "execute_result",
          "data": {
            "text/plain": [
              "[('2023_subject_id', 'string'),\n",
              " ('age', 'double'),\n",
              " ('sex', 'int'),\n",
              " ('mgmt_status', 'int'),\n",
              " ('idh_status', 'int'),\n",
              " ('survival_days', 'int'),\n",
              " ('nr_volume', 'int'),\n",
              " ('er_volume', 'int'),\n",
              " ('et_volume', 'int'),\n",
              " ('tumor_volume', 'int'),\n",
              " ('spm_etiv', 'int'),\n",
              " ('tumor_burden', 'double')]"
            ]
          },
          "metadata": {},
          "execution_count": 50
        }
      ],
      "source": [
        "df_pyspark.dtypes"
      ]
    },
    {
      "cell_type": "markdown",
      "source": [
        "## df_pyspark.describe()"
      ],
      "metadata": {
        "id": "wvuKrvUg1Dig"
      }
    },
    {
      "cell_type": "code",
      "execution_count": null,
      "metadata": {
        "colab": {
          "base_uri": "https://localhost:8080/"
        },
        "id": "uE3cOItEepyX",
        "outputId": "95805c73-09dc-4d72-a052-920df71a0416"
      },
      "outputs": [
        {
          "name": "stdout",
          "output_type": "stream",
          "text": [
            "+-------+-------------------+------------------+-------------------+------------------+-------------------+------------------+------------------+-----------------+------------------+-----------------+------------------+--------------------+\n",
            "|summary|    2023_subject_id|               age|                sex|       mgmt_status|         idh_status|     survival_days|         nr_volume|        er_volume|         et_volume|     tumor_volume|          spm_etiv|        tumor_burden|\n",
            "+-------+-------------------+------------------+-------------------+------------------+-------------------+------------------+------------------+-----------------+------------------+-----------------+------------------+--------------------+\n",
            "|  count|                461|               461|                461|               461|                461|               461|               461|              461|               461|              461|               461|                 461|\n",
            "|   mean|               NULL|60.917895878524924| 1.3644251626898047|0.5206073752711496| 0.0455531453362256| 472.9219088937093|11632.522776572669|60422.97180043384|21677.527114967463|93733.02169197398|1513625.5704989154| 0.06188139638394797|\n",
            "| stddev|               NULL|13.278816659152875|0.48179143211675607|0.5001178772678279|0.20874044600859687|382.28787010269184|15103.690264807497|42245.38400888196| 16461.83589653928|55916.66835463408|139344.83512439753|0.036285224815884205|\n",
            "|    min|BraTS-GLI-00000-000|              17.0|                  1|                 0|                  0|                 1|                 0|               55|                22|             6046|           1205413|         0.004600517|\n",
            "|    max|BraTS-GLI-01145-000|              94.0|                  2|                 1|                  1|              2144|            171723|           195271|             84287|           263809|           2008083|         0.163465949|\n",
            "+-------+-------------------+------------------+-------------------+------------------+-------------------+------------------+------------------+-----------------+------------------+-----------------+------------------+--------------------+\n",
            "\n"
          ]
        }
      ],
      "source": [
        "df_pyspark.describe().show()"
      ]
    },
    {
      "cell_type": "markdown",
      "source": [
        "#Adding column in dataframe using df_pyspark.withColumn('col_name', operation)\n"
      ],
      "metadata": {
        "id": "mQrkWrHg18lX"
      }
    },
    {
      "cell_type": "code",
      "execution_count": null,
      "metadata": {
        "colab": {
          "base_uri": "https://localhost:8080/"
        },
        "id": "PSf0g8-9evSX",
        "outputId": "4a8104ea-1744-4a2d-8a58-87ea480b4618"
      },
      "outputs": [
        {
          "output_type": "stream",
          "name": "stdout",
          "text": [
            "+-------------------+----+---+-----------+----------+-------------+---------+---------+---------+------------+--------+------------+-----+\n",
            "|    2023_subject_id| age|sex|mgmt_status|idh_status|survival_days|nr_volume|er_volume|et_volume|tumor_volume|spm_etiv|tumor_burden|label|\n",
            "+-------------------+----+---+-----------+----------+-------------+---------+---------+---------+------------+--------+------------+-----+\n",
            "|BraTS-GLI-00000-000|38.0|  1|          1|         0|          224|    11738|    12836|    32731|       57305| 1480170| 0.038715148| true|\n",
            "|BraTS-GLI-00002-000|64.0|  2|          1|         0|          313|    11248|   155695|    23651|      190594| 1392388| 0.136882823| true|\n",
            "|BraTS-GLI-00003-000|54.0|  1|          0|         0|          241|    17214|    57773|    24252|       99239| 1617269| 0.061362086| true|\n",
            "+-------------------+----+---+-----------+----------+-------------+---------+---------+---------+------------+--------+------------+-----+\n",
            "only showing top 3 rows\n",
            "\n"
          ]
        }
      ],
      "source": [
        "df_pyspark = df_pyspark.withColumn('label', df_pyspark['survival_days'] < 365)\n",
        "df_pyspark.show(3)"
      ]
    },
    {
      "cell_type": "markdown",
      "source": [
        "#Dropping columns using df_pyspark.drop('col_name')"
      ],
      "metadata": {
        "id": "kcfM28hl2SgW"
      }
    },
    {
      "cell_type": "code",
      "execution_count": null,
      "metadata": {
        "colab": {
          "base_uri": "https://localhost:8080/"
        },
        "id": "e5HHRQLcfVQP",
        "outputId": "592fe63e-fc6e-4c6d-88d6-9cf0b9c1809b"
      },
      "outputs": [
        {
          "output_type": "stream",
          "name": "stdout",
          "text": [
            "+----+---+-----------+----------+-------------+---------+---------+---------+------------+--------+------------+-----+\n",
            "| age|sex|mgmt_status|idh_status|survival_days|nr_volume|er_volume|et_volume|tumor_volume|spm_etiv|tumor_burden|label|\n",
            "+----+---+-----------+----------+-------------+---------+---------+---------+------------+--------+------------+-----+\n",
            "|38.0|  1|          1|         0|          224|    11738|    12836|    32731|       57305| 1480170| 0.038715148| true|\n",
            "|64.0|  2|          1|         0|          313|    11248|   155695|    23651|      190594| 1392388| 0.136882823| true|\n",
            "|54.0|  1|          0|         0|          241|    17214|    57773|    24252|       99239| 1617269| 0.061362086| true|\n",
            "+----+---+-----------+----------+-------------+---------+---------+---------+------------+--------+------------+-----+\n",
            "only showing top 3 rows\n",
            "\n"
          ]
        }
      ],
      "source": [
        "df_pyspark = df_pyspark.drop('2023_subject_id')\n",
        "df_pyspark.show(3)"
      ]
    },
    {
      "cell_type": "markdown",
      "source": [
        "#Renaming columns using df_pyspark.withColumnRenamed('old_name',new_name')"
      ],
      "metadata": {
        "id": "DYmhZboe2fkA"
      }
    },
    {
      "cell_type": "code",
      "execution_count": null,
      "metadata": {
        "colab": {
          "base_uri": "https://localhost:8080/"
        },
        "id": "JsytBAW_gjgR",
        "outputId": "af9ed04b-6cc7-4b24-8a2c-ed30c3396e19"
      },
      "outputs": [
        {
          "output_type": "stream",
          "name": "stdout",
          "text": [
            "+----+---+-----------+----------+-------------+---------+---------+---------+------------+--------+------------+----+\n",
            "| age|sex|mgmt_status|idh_status|survival_days|nr_volume|er_volume|et_volume|tumor_volume|spm_etiv|tumor_burden|  gt|\n",
            "+----+---+-----------+----------+-------------+---------+---------+---------+------------+--------+------------+----+\n",
            "|38.0|  1|          1|         0|          224|    11738|    12836|    32731|       57305| 1480170| 0.038715148|true|\n",
            "|64.0|  2|          1|         0|          313|    11248|   155695|    23651|      190594| 1392388| 0.136882823|true|\n",
            "|54.0|  1|          0|         0|          241|    17214|    57773|    24252|       99239| 1617269| 0.061362086|true|\n",
            "+----+---+-----------+----------+-------------+---------+---------+---------+------------+--------+------------+----+\n",
            "only showing top 3 rows\n",
            "\n"
          ]
        }
      ],
      "source": [
        "df_pyspark = df_pyspark.withColumnRenamed('label', 'gt')\n",
        "df_pyspark.show(3)"
      ]
    },
    {
      "cell_type": "markdown",
      "source": [
        "#Handling missing values\n",
        "# Dropping rows with null values: df_pyspark.na.drop(how=' ',thresh=' ', subset=[])"
      ],
      "metadata": {
        "id": "SjS0_yWV2xyl"
      }
    },
    {
      "cell_type": "code",
      "execution_count": null,
      "metadata": {
        "colab": {
          "base_uri": "https://localhost:8080/"
        },
        "id": "3mLy3FjqhCXz",
        "outputId": "bb938c3b-633a-457a-b709-ddd59e0b2588"
      },
      "outputs": [
        {
          "output_type": "stream",
          "name": "stdout",
          "text": [
            "+----+---+-----------+----------+-------------+---------+---------+---------+------------+--------+------------+----+\n",
            "| age|sex|mgmt_status|idh_status|survival_days|nr_volume|er_volume|et_volume|tumor_volume|spm_etiv|tumor_burden|  gt|\n",
            "+----+---+-----------+----------+-------------+---------+---------+---------+------------+--------+------------+----+\n",
            "|38.0|  1|          1|         0|          224|    11738|    12836|    32731|       57305| 1480170| 0.038715148|true|\n",
            "|64.0|  2|          1|         0|          313|    11248|   155695|    23651|      190594| 1392388| 0.136882823|true|\n",
            "|54.0|  1|          0|         0|          241|    17214|    57773|    24252|       99239| 1617269| 0.061362086|true|\n",
            "+----+---+-----------+----------+-------------+---------+---------+---------+------------+--------+------------+----+\n",
            "only showing top 3 rows\n",
            "\n"
          ]
        }
      ],
      "source": [
        "# df_pyspark.na.drop().show()\n",
        "df_pyspark.na.drop(how='any',thresh=2).show(3) #how='any', 'all'; Thresh=2 keep with atleast 2 non-NUll values"
      ]
    },
    {
      "cell_type": "markdown",
      "source": [
        "# Dropping rows with null values from specific columns: df_pyspark.na.drop(subset=['col_name1','col_name2'])"
      ],
      "metadata": {
        "id": "yAhJB0R_4zaF"
      }
    },
    {
      "cell_type": "code",
      "execution_count": null,
      "metadata": {
        "colab": {
          "base_uri": "https://localhost:8080/"
        },
        "id": "4TWDSZkciBGF",
        "outputId": "c0f62a7a-1cd1-4d2a-bd82-ee0cc0e801a9"
      },
      "outputs": [
        {
          "output_type": "stream",
          "name": "stdout",
          "text": [
            "+----+---+-----------+----------+-------------+---------+---------+---------+------------+--------+------------+----+\n",
            "| age|sex|mgmt_status|idh_status|survival_days|nr_volume|er_volume|et_volume|tumor_volume|spm_etiv|tumor_burden|  gt|\n",
            "+----+---+-----------+----------+-------------+---------+---------+---------+------------+--------+------------+----+\n",
            "|38.0|  1|          1|         0|          224|    11738|    12836|    32731|       57305| 1480170| 0.038715148|true|\n",
            "|64.0|  2|          1|         0|          313|    11248|   155695|    23651|      190594| 1392388| 0.136882823|true|\n",
            "|54.0|  1|          0|         0|          241|    17214|    57773|    24252|       99239| 1617269| 0.061362086|true|\n",
            "+----+---+-----------+----------+-------------+---------+---------+---------+------------+--------+------------+----+\n",
            "only showing top 3 rows\n",
            "\n"
          ]
        }
      ],
      "source": [
        "df_pyspark.na.drop(how='any',subset=['age']).show(3) #remove nan in 'age' column"
      ]
    },
    {
      "cell_type": "markdown",
      "source": [
        "# Replace missing values using df_pyspark.na.fill(value,['col_name1','col_name1'])"
      ],
      "metadata": {
        "id": "TDr8CR_45O2v"
      }
    },
    {
      "cell_type": "code",
      "source": [
        "df_pyspark.na.fill('value',['age', 'sex']).show(3)"
      ],
      "metadata": {
        "id": "pvF52KTK5not",
        "outputId": "4bd564ab-e7c1-4781-d480-cfcc66aa269e",
        "colab": {
          "base_uri": "https://localhost:8080/"
        }
      },
      "execution_count": null,
      "outputs": [
        {
          "output_type": "stream",
          "name": "stdout",
          "text": [
            "+----+---+-----------+----------+-------------+---------+---------+---------+------------+--------+------------+----+\n",
            "| age|sex|mgmt_status|idh_status|survival_days|nr_volume|er_volume|et_volume|tumor_volume|spm_etiv|tumor_burden|  gt|\n",
            "+----+---+-----------+----------+-------------+---------+---------+---------+------------+--------+------------+----+\n",
            "|38.0|  1|          1|         0|          224|    11738|    12836|    32731|       57305| 1480170| 0.038715148|true|\n",
            "|64.0|  2|          1|         0|          313|    11248|   155695|    23651|      190594| 1392388| 0.136882823|true|\n",
            "|54.0|  1|          0|         0|          241|    17214|    57773|    24252|       99239| 1617269| 0.061362086|true|\n",
            "+----+---+-----------+----------+-------------+---------+---------+---------+------------+--------+------------+----+\n",
            "only showing top 3 rows\n",
            "\n"
          ]
        }
      ]
    },
    {
      "cell_type": "markdown",
      "source": [
        "# Using pyspark.ml.feature.Imputer to replace missing value\n",
        "#Imputer(inputCols=[], outputCols=[]).setStrategy('mean')"
      ],
      "metadata": {
        "id": "PeDKf7N954gB"
      }
    },
    {
      "cell_type": "code",
      "execution_count": null,
      "metadata": {
        "colab": {
          "base_uri": "https://localhost:8080/"
        },
        "id": "kXE8PkfpjC1s",
        "outputId": "1e24a555-ae8a-43c2-d1bc-66f9aa8f5615"
      },
      "outputs": [
        {
          "output_type": "stream",
          "name": "stdout",
          "text": [
            "+----+---+-----------+----------+-------------+---------+---------+---------+------------+--------+------------+----+-----------+-----------+\n",
            "| age|sex|mgmt_status|idh_status|survival_days|nr_volume|er_volume|et_volume|tumor_volume|spm_etiv|tumor_burden|  gt|age_imputed|sex_imputed|\n",
            "+----+---+-----------+----------+-------------+---------+---------+---------+------------+--------+------------+----+-----------+-----------+\n",
            "|38.0|  1|          1|         0|          224|    11738|    12836|    32731|       57305| 1480170| 0.038715148|true|       38.0|          1|\n",
            "|64.0|  2|          1|         0|          313|    11248|   155695|    23651|      190594| 1392388| 0.136882823|true|       64.0|          2|\n",
            "|54.0|  1|          0|         0|          241|    17214|    57773|    24252|       99239| 1617269| 0.061362086|true|       54.0|          1|\n",
            "+----+---+-----------+----------+-------------+---------+---------+---------+------------+--------+------------+----+-----------+-----------+\n",
            "only showing top 3 rows\n",
            "\n"
          ]
        }
      ],
      "source": [
        "# Handling missing values\n",
        "from pyspark.ml.feature import Imputer\n",
        "\n",
        "imputer = Imputer(inputCols=['age', 'sex'],\n",
        "                  outputCols=[\"{}_imputed\".format(c) for c in ['age', 'sex']]).setStrategy('mean')\n",
        "\n",
        "imputer.fit(df_pyspark).transform(df_pyspark).show(3)"
      ]
    },
    {
      "cell_type": "markdown",
      "source": [
        "#Equivalent of pandas.cut()"
      ],
      "metadata": {
        "id": "Z8r5kGfi6kU_"
      }
    },
    {
      "cell_type": "code",
      "execution_count": null,
      "metadata": {
        "colab": {
          "base_uri": "https://localhost:8080/"
        },
        "id": "kyjI7-2DjV84",
        "outputId": "ac404de2-a372-468c-f524-beaba35bd791"
      },
      "outputs": [
        {
          "output_type": "stream",
          "name": "stdout",
          "text": [
            "+----+---+-----------+----------+-------------+---------+---------+---------+------------+--------+------------+----+-------------+\n",
            "| age|sex|mgmt_status|idh_status|survival_days|nr_volume|er_volume|et_volume|tumor_volume|spm_etiv|tumor_burden|  gt|label_3_class|\n",
            "+----+---+-----------+----------+-------------+---------+---------+---------+------------+--------+------------+----+-------------+\n",
            "|38.0|  1|          1|         0|          224|    11738|    12836|    32731|       57305| 1480170| 0.038715148|true|          0.0|\n",
            "|64.0|  2|          1|         0|          313|    11248|   155695|    23651|      190594| 1392388| 0.136882823|true|          0.0|\n",
            "|54.0|  1|          0|         0|          241|    17214|    57773|    24252|       99239| 1617269| 0.061362086|true|          0.0|\n",
            "+----+---+-----------+----------+-------------+---------+---------+---------+------------+--------+------------+----+-------------+\n",
            "only showing top 3 rows\n",
            "\n"
          ]
        }
      ],
      "source": [
        "from pyspark.ml.feature import Binarizer, Bucketizer\n",
        "# threshold = 0 for binarizer\n",
        "# binarizer = Binarizer(threshold=365, inputCol='survival_days', outputCol='label_binary')\n",
        "# provide 5 split points to generate 4 buckets\n",
        "bucketizer = Bucketizer(splits=[0, 365, 548 , max_survival], inputCol='survival_days', outputCol='label_3_class')\n",
        "\n",
        "# pipeline stages\n",
        "from pyspark.ml import Pipeline\n",
        "stages = [bucketizer]\n",
        "pipeline = Pipeline(stages=stages)\n",
        "\n",
        "# fit the pipeline model and transform the data\n",
        "pipeline.fit(df_pyspark).transform(df_pyspark).show(3)"
      ]
    },
    {
      "cell_type": "markdown",
      "source": [
        "#Filter operations"
      ],
      "metadata": {
        "id": "6Pdf5G2s7QQG"
      }
    },
    {
      "cell_type": "code",
      "execution_count": null,
      "metadata": {
        "id": "nXdXAWMWQXvO",
        "colab": {
          "base_uri": "https://localhost:8080/"
        },
        "outputId": "02b2311f-1382-4794-aa8d-a3ab0cc28f37"
      },
      "outputs": [
        {
          "output_type": "stream",
          "name": "stdout",
          "text": [
            "+----+---+------------+\n",
            "| age|sex|tumor_burden|\n",
            "+----+---+------------+\n",
            "|38.0|  1| 0.038715148|\n",
            "|37.0|  2| 0.090754804|\n",
            "|29.0|  1| 0.108869389|\n",
            "+----+---+------------+\n",
            "only showing top 3 rows\n",
            "\n"
          ]
        }
      ],
      "source": [
        "df_pyspark.filter(\"age<=40\").select(['age','sex','tumor_burden']).show(3)"
      ]
    },
    {
      "cell_type": "code",
      "source": [
        "df_pyspark.filter((df_pyspark['age']<=40) & (df_pyspark['tumor_burden']>0.1)).select(['age','sex','tumor_burden']).show(3)"
      ],
      "metadata": {
        "id": "whiQNoeV7k59",
        "outputId": "19515478-25fb-4483-facc-a122e2a9e1f8",
        "colab": {
          "base_uri": "https://localhost:8080/"
        }
      },
      "execution_count": null,
      "outputs": [
        {
          "output_type": "stream",
          "name": "stdout",
          "text": [
            "+-----+---+------------+\n",
            "|  age|sex|tumor_burden|\n",
            "+-----+---+------------+\n",
            "| 29.0|  1| 0.108869389|\n",
            "|39.64|  1| 0.144319374|\n",
            "| 26.0|  1| 0.117806733|\n",
            "+-----+---+------------+\n",
            "only showing top 3 rows\n",
            "\n"
          ]
        }
      ]
    },
    {
      "cell_type": "code",
      "source": [
        "df_pyspark.filter((df_pyspark['age']<=40) | (df_pyspark['tumor_burden']>0.1)).select(['age','sex','tumor_burden']).show(3)"
      ],
      "metadata": {
        "id": "KAWfSQPR764Z",
        "outputId": "7b1453c3-4ff3-41a6-ce31-9844c86c8405",
        "colab": {
          "base_uri": "https://localhost:8080/"
        }
      },
      "execution_count": null,
      "outputs": [
        {
          "output_type": "stream",
          "name": "stdout",
          "text": [
            "+----+---+------------+\n",
            "| age|sex|tumor_burden|\n",
            "+----+---+------------+\n",
            "|38.0|  1| 0.038715148|\n",
            "|64.0|  2| 0.136882823|\n",
            "|37.0|  2| 0.090754804|\n",
            "+----+---+------------+\n",
            "only showing top 3 rows\n",
            "\n"
          ]
        }
      ]
    },
    {
      "cell_type": "code",
      "source": [
        "df_pyspark.filter(~((df_pyspark['age']<=40) | (df_pyspark['tumor_burden']>0.1))).select(['age','sex','tumor_burden']).show(3)"
      ],
      "metadata": {
        "id": "QOU489M88p_K",
        "outputId": "73c6f54c-3904-4bd3-ea49-83a6dee275cf",
        "colab": {
          "base_uri": "https://localhost:8080/"
        }
      },
      "execution_count": null,
      "outputs": [
        {
          "output_type": "stream",
          "name": "stdout",
          "text": [
            "+----+---+------------+\n",
            "| age|sex|tumor_burden|\n",
            "+----+---+------------+\n",
            "|54.0|  1| 0.061362086|\n",
            "|49.0|  1|  0.09654316|\n",
            "|60.0|  2| 0.012891549|\n",
            "+----+---+------------+\n",
            "only showing top 3 rows\n",
            "\n"
          ]
        }
      ]
    },
    {
      "cell_type": "code",
      "source": [
        "df_pyspark.filter(~(df_pyspark['age']<=40) | (df_pyspark['tumor_burden']>0.1)).select(['age','sex','tumor_burden']).show(3)"
      ],
      "metadata": {
        "id": "2n2t3fWX82jO",
        "outputId": "6136ad62-a4ec-412b-9939-0c262146a054",
        "colab": {
          "base_uri": "https://localhost:8080/"
        }
      },
      "execution_count": null,
      "outputs": [
        {
          "output_type": "stream",
          "name": "stdout",
          "text": [
            "+----+---+------------+\n",
            "| age|sex|tumor_burden|\n",
            "+----+---+------------+\n",
            "|64.0|  2| 0.136882823|\n",
            "|54.0|  1| 0.061362086|\n",
            "|49.0|  1|  0.09654316|\n",
            "+----+---+------------+\n",
            "only showing top 3 rows\n",
            "\n"
          ]
        }
      ]
    },
    {
      "cell_type": "markdown",
      "source": [
        "# GroupBy and Aggregate functions"
      ],
      "metadata": {
        "id": "HuYJ3O-s9PCa"
      }
    },
    {
      "cell_type": "code",
      "source": [
        "df_pyspark.groupBy('sex').avg().na.drop().show(3)"
      ],
      "metadata": {
        "colab": {
          "base_uri": "https://localhost:8080/"
        },
        "id": "as_Mn9fL89Lr",
        "outputId": "6ba5ad1b-58e1-4d16-92ff-64e58cf481f1"
      },
      "execution_count": null,
      "outputs": [
        {
          "output_type": "stream",
          "name": "stdout",
          "text": [
            "+---+-----------------+--------+------------------+--------------------+------------------+------------------+-----------------+------------------+-----------------+------------------+--------------------+\n",
            "|sex|         avg(age)|avg(sex)|  avg(mgmt_status)|     avg(idh_status)|avg(survival_days)|    avg(nr_volume)|   avg(er_volume)|    avg(et_volume)|avg(tumor_volume)|     avg(spm_etiv)|   avg(tumor_burden)|\n",
            "+---+-----------------+--------+------------------+--------------------+------------------+------------------+-----------------+------------------+-----------------+------------------+--------------------+\n",
            "|  1|60.06276450511944|     1.0|0.4948805460750853| 0.06484641638225255|466.67235494880543|11590.703071672355|63129.25938566553|22417.890784982934|97137.85324232082|1573609.5153583619|0.061814001174061425|\n",
            "|  2| 62.4092857142857|     2.0|0.5654761904761905|0.011904761904761904|483.82142857142856|11705.458333333334|55703.07738095238| 20386.29761904762|87794.83333333333|1409010.7142857143| 0.06199893683928572|\n",
            "+---+-----------------+--------+------------------+--------------------+------------------+------------------+-----------------+------------------+-----------------+------------------+--------------------+\n",
            "\n"
          ]
        }
      ]
    },
    {
      "cell_type": "markdown",
      "source": [
        "###Using aggregate function directly without grouping"
      ],
      "metadata": {
        "id": "11up-tay_KZr"
      }
    },
    {
      "cell_type": "code",
      "source": [
        "df_pyspark.agg({'age':'avg'}).show()"
      ],
      "metadata": {
        "outputId": "85578ac8-7f79-499a-ee9f-9f51522bf631",
        "colab": {
          "base_uri": "https://localhost:8080/"
        },
        "id": "mwka_-WU-tz1"
      },
      "execution_count": null,
      "outputs": [
        {
          "output_type": "stream",
          "name": "stdout",
          "text": [
            "+------------------+\n",
            "|          avg(age)|\n",
            "+------------------+\n",
            "|60.917895878524924|\n",
            "+------------------+\n",
            "\n"
          ]
        }
      ]
    },
    {
      "cell_type": "code",
      "source": [
        "df_pyspark.groupBy('sex').avg('age').na.drop().show()"
      ],
      "metadata": {
        "id": "3xSceoMB_ECX",
        "outputId": "a424d169-0c40-4cc6-8d9c-f78f560e98cb",
        "colab": {
          "base_uri": "https://localhost:8080/"
        }
      },
      "execution_count": null,
      "outputs": [
        {
          "output_type": "stream",
          "name": "stdout",
          "text": [
            "+---+-----------------+\n",
            "|sex|         avg(age)|\n",
            "+---+-----------------+\n",
            "|  1|60.06276450511944|\n",
            "|  2| 62.4092857142857|\n",
            "+---+-----------------+\n",
            "\n"
          ]
        }
      ]
    },
    {
      "cell_type": "markdown",
      "source": [
        "# Machine Learning using pySpark: pySpark.Mlib\n",
        "##DataFrame API"
      ],
      "metadata": {
        "id": "LCxVc-wq_9FB"
      }
    },
    {
      "cell_type": "markdown",
      "source": [
        "### Vector Assembler\n",
        "group independent features: [age, sex,] ---> new feature ---> independent feature"
      ],
      "metadata": {
        "id": "M6Q71feDBcqm"
      }
    },
    {
      "cell_type": "code",
      "source": [
        "from pyspark.ml.feature import VectorAssembler\n",
        "\n",
        "feature_assembler = VectorAssembler(inputCols=['age','sex','tumor_burden'],outputCol='independent_features')"
      ],
      "metadata": {
        "id": "EgIB5nOC_b0q"
      },
      "execution_count": null,
      "outputs": []
    },
    {
      "cell_type": "code",
      "source": [
        "output = feature_assembler.transform(df_pyspark)"
      ],
      "metadata": {
        "id": "qqB_YhT2CH1m"
      },
      "execution_count": null,
      "outputs": []
    },
    {
      "cell_type": "code",
      "source": [
        "output.select(['age','sex','tumor_burden','survival_days','independent_features']).show(3)"
      ],
      "metadata": {
        "id": "k_RzyoQICOYs",
        "outputId": "fb214c3f-1f59-4af3-b5b8-229b24c29252",
        "colab": {
          "base_uri": "https://localhost:8080/"
        }
      },
      "execution_count": null,
      "outputs": [
        {
          "output_type": "stream",
          "name": "stdout",
          "text": [
            "+----+---+------------+-------------+--------------------+\n",
            "| age|sex|tumor_burden|survival_days|independent_features|\n",
            "+----+---+------------+-------------+--------------------+\n",
            "|38.0|  1| 0.038715148|          224|[38.0,1.0,0.03871...|\n",
            "|64.0|  2| 0.136882823|          313|[64.0,2.0,0.13688...|\n",
            "|54.0|  1| 0.061362086|          241|[54.0,1.0,0.06136...|\n",
            "+----+---+------------+-------------+--------------------+\n",
            "only showing top 3 rows\n",
            "\n"
          ]
        }
      ]
    },
    {
      "cell_type": "code",
      "source": [
        "final_data = output.select('independent_features','survival_days')\n",
        "final_data.show(3)"
      ],
      "metadata": {
        "id": "Ov1ULuNvCP48",
        "outputId": "5eaca466-6593-4811-d35c-540f8990e7f2",
        "colab": {
          "base_uri": "https://localhost:8080/"
        }
      },
      "execution_count": null,
      "outputs": [
        {
          "output_type": "stream",
          "name": "stdout",
          "text": [
            "+--------------------+-------------+\n",
            "|independent_features|survival_days|\n",
            "+--------------------+-------------+\n",
            "|[38.0,1.0,0.03871...|          224|\n",
            "|[64.0,2.0,0.13688...|          313|\n",
            "|[54.0,1.0,0.06136...|          241|\n",
            "+--------------------+-------------+\n",
            "only showing top 3 rows\n",
            "\n"
          ]
        }
      ]
    },
    {
      "cell_type": "markdown",
      "source": [
        "## Linear Regression using pyspark.ml.regression.LinearRegression"
      ],
      "metadata": {
        "id": "WHQyx7-oDHqf"
      }
    },
    {
      "cell_type": "code",
      "source": [
        "# train_data,test_data=final_data.randomSplit([0.75,0.25])"
      ],
      "metadata": {
        "id": "j-inlq77C8ng"
      },
      "execution_count": null,
      "outputs": []
    },
    {
      "cell_type": "code",
      "source": [
        "# from pyspark.ml.regression import LinearRegression\n",
        "\n",
        "# regressor = LinearRegression(featuresCol='independent_features',labelCol='survival_days')\n",
        "\n",
        "# regressor = regressor.fit(train_data)"
      ],
      "metadata": {
        "id": "wN1alogPDfQf"
      },
      "execution_count": null,
      "outputs": []
    },
    {
      "cell_type": "code",
      "source": [],
      "metadata": {
        "id": "vF4bSiZHD3Lx"
      },
      "execution_count": null,
      "outputs": []
    }
  ],
  "metadata": {
    "colab": {
      "provenance": [],
      "authorship_tag": "ABX9TyOJX267V4hxIiokMAtBaRT9",
      "include_colab_link": true
    },
    "kernelspec": {
      "display_name": "Python 3",
      "name": "python3"
    },
    "language_info": {
      "name": "python"
    }
  },
  "nbformat": 4,
  "nbformat_minor": 0
}
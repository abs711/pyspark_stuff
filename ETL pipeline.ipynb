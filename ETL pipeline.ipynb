{
 "cells": [
  {
   "cell_type": "code",
   "execution_count": 0,
   "metadata": {
    "application/vnd.databricks.v1+cell": {
     "cellMetadata": {
      "byteLimit": 2048000,
      "rowLimit": 10000
     },
     "inputWidgets": {},
     "nuid": "ac628b00-7386-472f-a14b-36eb0c391613",
     "showTitle": false,
     "title": ""
    }
   },
   "outputs": [],
   "source": [
    "import requests\n",
    "from pyspark.sql import DataFrame"
   ]
  },
  {
   "cell_type": "code",
   "execution_count": 0,
   "metadata": {
    "application/vnd.databricks.v1+cell": {
     "cellMetadata": {
      "byteLimit": 2048000,
      "rowLimit": 10000
     },
     "inputWidgets": {},
     "nuid": "4f4f4d97-673e-4260-9aba-9268950d205e",
     "showTitle": false,
     "title": ""
    }
   },
   "outputs": [],
   "source": [
    "file_loc = 'https://datahub.io/core/glacier-mass-balance/r/glaciers.csv'\n",
    "with requests.get(file_loc, stream=True) as r:\n",
    "    with open('/dbfs/glacier.csv','wb') as f:\n",
    "        for chunk in r.iter_content(chunk_size=8192):\n",
    "            f.write(chunk)"
   ]
  },
  {
   "cell_type": "code",
   "execution_count": 0,
   "metadata": {
    "application/vnd.databricks.v1+cell": {
     "cellMetadata": {
      "byteLimit": 2048000,
      "rowLimit": 10000
     },
     "inputWidgets": {},
     "nuid": "e3456e2a-1476-40e6-ac46-773578c14eb0",
     "showTitle": false,
     "title": ""
    }
   },
   "outputs": [],
   "source": [
    "def get_data(url:str):\n",
    "    filename = url.split('/')[-1]\n",
    "    with requests.get(url, stream=True) as r:\n",
    "        with open('/dbfs/{}'.format(filename), 'wb') as f:\n",
    "            for chunk in r.iter_content(chunk_size=8192):\n",
    "                f.write(chunk)\n",
    "    return filename"
   ]
  },
  {
   "cell_type": "code",
   "execution_count": 0,
   "metadata": {
    "application/vnd.databricks.v1+cell": {
     "cellMetadata": {
      "byteLimit": 2048000,
      "rowLimit": 10000
     },
     "inputWidgets": {},
     "nuid": "560fdc70-413d-4553-92ed-e4749a90b01c",
     "showTitle": false,
     "title": ""
    }
   },
   "outputs": [],
   "source": [
    "file_name = get_data(file_loc)"
   ]
  },
  {
   "cell_type": "code",
   "execution_count": 0,
   "metadata": {
    "application/vnd.databricks.v1+cell": {
     "cellMetadata": {
      "byteLimit": 2048000,
      "rowLimit": 10000
     },
     "inputWidgets": {},
     "nuid": "99f7c554-0076-407c-9e28-1a0f7468c8e1",
     "showTitle": false,
     "title": ""
    }
   },
   "outputs": [
    {
     "output_type": "execute_result",
     "data": {
      "text/plain": [
       "'glaciers.csv'"
      ]
     },
     "execution_count": 9,
     "metadata": {},
     "output_type": "execute_result"
    }
   ],
   "source": [
    "  file_name"
   ]
  },
  {
   "cell_type": "code",
   "execution_count": 0,
   "metadata": {
    "application/vnd.databricks.v1+cell": {
     "cellMetadata": {
      "byteLimit": 2048000,
      "rowLimit": 10000
     },
     "inputWidgets": {},
     "nuid": "2874e503-151f-4236-ba27-5edf57e78bc5",
     "showTitle": false,
     "title": ""
    }
   },
   "outputs": [
    {
     "output_type": "execute_result",
     "data": {
      "text/plain": [
       "DataFrame[Year: string, Mean cumulative mass balance: string, Number of observations: string]"
      ]
     },
     "execution_count": 15,
     "metadata": {},
     "output_type": "execute_result"
    }
   ],
   "source": [
    "import os\n",
    "spark.read.format(\"csv\").option(\"header\",\"true\").load(os.path.join(\"file:/\",\"dbfs\",file_name))"
   ]
  },
  {
   "cell_type": "code",
   "execution_count": 0,
   "metadata": {
    "application/vnd.databricks.v1+cell": {
     "cellMetadata": {
      "byteLimit": 2048000,
      "rowLimit": 10000
     },
     "inputWidgets": {},
     "nuid": "c8ab11bb-dd3b-40ca-a4a0-44527935c614",
     "showTitle": false,
     "title": ""
    }
   },
   "outputs": [
    {
     "output_type": "execute_result",
     "data": {
      "text/plain": [
       "'csv'"
      ]
     },
     "execution_count": 18,
     "metadata": {},
     "output_type": "execute_result"
    }
   ],
   "source": [
    "file_format = file_name.split(\".\")[-1]\n",
    "file_format"
   ]
  },
  {
   "cell_type": "code",
   "execution_count": 0,
   "metadata": {
    "application/vnd.databricks.v1+cell": {
     "cellMetadata": {
      "byteLimit": 2048000,
      "rowLimit": 10000
     },
     "inputWidgets": {},
     "nuid": "c5c618b1-d749-4aee-af65-9a0e3a82c7bf",
     "showTitle": false,
     "title": ""
    }
   },
   "outputs": [],
   "source": [
    " def read_data(file_name):\n",
    "    path = os.path.join(\"file:/\",\"dbfs\",file_name)\n",
    "    file_format = file_name.split(\".\")[-1]\n",
    "    if file_format == 'csv':\n",
    "        df = spark.read.format(file_format).option(\"header\",\"true\").load(path)\n",
    "    elif file_format == 'json':\n",
    "        try:\n",
    "            df = spark.read.format(file_format).load(path)\n",
    "        except:\n",
    "            df = spark.read.format(file_format).option(\"multiline\",\"true\").load(path)\n",
    "    elif file_format == 'parquet':\n",
    "        df =  spark.read.text(path)\n",
    "    return df        "
   ]
  },
  {
   "cell_type": "code",
   "execution_count": 0,
   "metadata": {
    "application/vnd.databricks.v1+cell": {
     "cellMetadata": {
      "byteLimit": 2048000,
      "rowLimit": 10000
     },
     "inputWidgets": {},
     "nuid": "2a8a97fe-bd72-4070-aa14-795c8385d69c",
     "showTitle": false,
     "title": ""
    }
   },
   "outputs": [],
   "source": [
    "df = read_data(file_name)"
   ]
  },
  {
   "cell_type": "code",
   "execution_count": 0,
   "metadata": {
    "application/vnd.databricks.v1+cell": {
     "cellMetadata": {
      "byteLimit": 2048000,
      "rowLimit": 10000
     },
     "inputWidgets": {},
     "nuid": "2dafbe48-e753-4bf3-9cfc-8995cab73ff3",
     "showTitle": false,
     "title": ""
    }
   },
   "outputs": [
    {
     "output_type": "display_data",
     "data": {
      "text/html": [
       "<style scoped>\n",
       "  .table-result-container {\n",
       "    max-height: 300px;\n",
       "    overflow: auto;\n",
       "  }\n",
       "  table, th, td {\n",
       "    border: 1px solid black;\n",
       "    border-collapse: collapse;\n",
       "  }\n",
       "  th, td {\n",
       "    padding: 5px;\n",
       "  }\n",
       "  th {\n",
       "    text-align: left;\n",
       "  }\n",
       "</style><div class='table-result-container'><table class='table-result'><thead style='background-color: white'><tr><th>Year</th><th>Mean cumulative mass balance</th><th>Number of observations</th></tr></thead><tbody><tr><td>1945</td><td>0</td><td>null</td></tr><tr><td>1946</td><td>-1.13</td><td>1</td></tr><tr><td>1947</td><td>-3.19</td><td>1</td></tr><tr><td>1948</td><td>-3.19</td><td>1</td></tr><tr><td>1949</td><td>-3.82</td><td>3</td></tr><tr><td>1950</td><td>-4.887</td><td>3</td></tr><tr><td>1951</td><td>-5.217</td><td>3</td></tr><tr><td>1952</td><td>-5.707</td><td>3</td></tr><tr><td>1953</td><td>-6.341</td><td>7</td></tr><tr><td>1954</td><td>-6.825</td><td>6</td></tr><tr><td>1955</td><td>-6.575</td><td>7</td></tr><tr><td>1956</td><td>-6.814</td><td>7</td></tr><tr><td>1957</td><td>-6.989</td><td>9</td></tr><tr><td>1958</td><td>-7.693</td><td>9</td></tr><tr><td>1959</td><td>-8.325</td><td>11</td></tr><tr><td>1960</td><td>-8.688</td><td>14</td></tr><tr><td>1961</td><td>-8.935</td><td>15</td></tr><tr><td>1962</td><td>-9.109</td><td>20</td></tr><tr><td>1963</td><td>-9.567</td><td>22</td></tr><tr><td>1964</td><td>-9.699</td><td>22</td></tr><tr><td>1965</td><td>-9.298</td><td>24</td></tr><tr><td>1966</td><td>-9.436</td><td>27</td></tr><tr><td>1967</td><td>-9.303</td><td>29</td></tr><tr><td>1968</td><td>-9.219</td><td>31</td></tr><tr><td>1969</td><td>-9.732</td><td>31</td></tr><tr><td>1970</td><td>-10.128</td><td>32</td></tr><tr><td>1971</td><td>-10.288</td><td>32</td></tr><tr><td>1972</td><td>-10.441</td><td>32</td></tr><tr><td>1973</td><td>-10.538</td><td>32</td></tr><tr><td>1974</td><td>-10.613</td><td>32</td></tr><tr><td>1975</td><td>-10.534</td><td>33</td></tr><tr><td>1976</td><td>-10.633</td><td>35</td></tr><tr><td>1977</td><td>-10.682</td><td>37</td></tr><tr><td>1978</td><td>-10.754</td><td>37</td></tr><tr><td>1979</td><td>-11.127</td><td>37</td></tr><tr><td>1980</td><td>-11.318</td><td>36</td></tr><tr><td>1981</td><td>-11.394</td><td>35</td></tr><tr><td>1982</td><td>-11.849</td><td>36</td></tr><tr><td>1983</td><td>-11.846</td><td>37</td></tr><tr><td>1984</td><td>-11.902</td><td>37</td></tr><tr><td>1985</td><td>-12.238</td><td>37</td></tr><tr><td>1986</td><td>-12.782</td><td>37</td></tr><tr><td>1987</td><td>-12.795</td><td>37</td></tr><tr><td>1988</td><td>-13.26</td><td>37</td></tr><tr><td>1989</td><td>-13.343</td><td>37</td></tr><tr><td>1990</td><td>-13.687</td><td>37</td></tr><tr><td>1991</td><td>-14.255</td><td>37</td></tr><tr><td>1992</td><td>-14.501</td><td>36</td></tr><tr><td>1993</td><td>-14.695</td><td>37</td></tr><tr><td>1994</td><td>-15.276</td><td>37</td></tr><tr><td>1995</td><td>-15.486</td><td>37</td></tr><tr><td>1996</td><td>-15.89</td><td>37</td></tr><tr><td>1997</td><td>-16.487</td><td>37</td></tr><tr><td>1998</td><td>-17.31</td><td>37</td></tr><tr><td>1999</td><td>-17.697</td><td>37</td></tr><tr><td>2000</td><td>-17.727</td><td>37</td></tr><tr><td>2001</td><td>-18.032</td><td>37</td></tr><tr><td>2002</td><td>-18.726</td><td>37</td></tr><tr><td>2003</td><td>-19.984</td><td>37</td></tr><tr><td>2004</td><td>-20.703</td><td>37</td></tr><tr><td>2005</td><td>-21.405</td><td>37</td></tr><tr><td>2006</td><td>-22.595</td><td>37</td></tr><tr><td>2007</td><td>-23.255</td><td>37</td></tr><tr><td>2008</td><td>-23.776</td><td>37</td></tr><tr><td>2009</td><td>-24.459</td><td>37</td></tr><tr><td>2010</td><td>-25.158</td><td>37</td></tr><tr><td>2011</td><td>-26.294</td><td>37</td></tr><tr><td>2012</td><td>-26.93</td><td>36</td></tr><tr><td>2013</td><td>-27.817</td><td>31</td></tr><tr><td>2014</td><td>-28.652</td><td>24</td></tr></tbody></table></div>"
      ]
     },
     "metadata": {
      "application/vnd.databricks.v1+output": {
       "addedWidgets": {},
       "aggData": [],
       "aggError": "",
       "aggOverflow": false,
       "aggSchema": [],
       "aggSeriesLimitReached": false,
       "aggType": "",
       "arguments": {},
       "columnCustomDisplayInfos": {},
       "data": [
        [
         "1945",
         "0",
         null
        ],
        [
         "1946",
         "-1.13",
         "1"
        ],
        [
         "1947",
         "-3.19",
         "1"
        ],
        [
         "1948",
         "-3.19",
         "1"
        ],
        [
         "1949",
         "-3.82",
         "3"
        ],
        [
         "1950",
         "-4.887",
         "3"
        ],
        [
         "1951",
         "-5.217",
         "3"
        ],
        [
         "1952",
         "-5.707",
         "3"
        ],
        [
         "1953",
         "-6.341",
         "7"
        ],
        [
         "1954",
         "-6.825",
         "6"
        ],
        [
         "1955",
         "-6.575",
         "7"
        ],
        [
         "1956",
         "-6.814",
         "7"
        ],
        [
         "1957",
         "-6.989",
         "9"
        ],
        [
         "1958",
         "-7.693",
         "9"
        ],
        [
         "1959",
         "-8.325",
         "11"
        ],
        [
         "1960",
         "-8.688",
         "14"
        ],
        [
         "1961",
         "-8.935",
         "15"
        ],
        [
         "1962",
         "-9.109",
         "20"
        ],
        [
         "1963",
         "-9.567",
         "22"
        ],
        [
         "1964",
         "-9.699",
         "22"
        ],
        [
         "1965",
         "-9.298",
         "24"
        ],
        [
         "1966",
         "-9.436",
         "27"
        ],
        [
         "1967",
         "-9.303",
         "29"
        ],
        [
         "1968",
         "-9.219",
         "31"
        ],
        [
         "1969",
         "-9.732",
         "31"
        ],
        [
         "1970",
         "-10.128",
         "32"
        ],
        [
         "1971",
         "-10.288",
         "32"
        ],
        [
         "1972",
         "-10.441",
         "32"
        ],
        [
         "1973",
         "-10.538",
         "32"
        ],
        [
         "1974",
         "-10.613",
         "32"
        ],
        [
         "1975",
         "-10.534",
         "33"
        ],
        [
         "1976",
         "-10.633",
         "35"
        ],
        [
         "1977",
         "-10.682",
         "37"
        ],
        [
         "1978",
         "-10.754",
         "37"
        ],
        [
         "1979",
         "-11.127",
         "37"
        ],
        [
         "1980",
         "-11.318",
         "36"
        ],
        [
         "1981",
         "-11.394",
         "35"
        ],
        [
         "1982",
         "-11.849",
         "36"
        ],
        [
         "1983",
         "-11.846",
         "37"
        ],
        [
         "1984",
         "-11.902",
         "37"
        ],
        [
         "1985",
         "-12.238",
         "37"
        ],
        [
         "1986",
         "-12.782",
         "37"
        ],
        [
         "1987",
         "-12.795",
         "37"
        ],
        [
         "1988",
         "-13.26",
         "37"
        ],
        [
         "1989",
         "-13.343",
         "37"
        ],
        [
         "1990",
         "-13.687",
         "37"
        ],
        [
         "1991",
         "-14.255",
         "37"
        ],
        [
         "1992",
         "-14.501",
         "36"
        ],
        [
         "1993",
         "-14.695",
         "37"
        ],
        [
         "1994",
         "-15.276",
         "37"
        ],
        [
         "1995",
         "-15.486",
         "37"
        ],
        [
         "1996",
         "-15.89",
         "37"
        ],
        [
         "1997",
         "-16.487",
         "37"
        ],
        [
         "1998",
         "-17.31",
         "37"
        ],
        [
         "1999",
         "-17.697",
         "37"
        ],
        [
         "2000",
         "-17.727",
         "37"
        ],
        [
         "2001",
         "-18.032",
         "37"
        ],
        [
         "2002",
         "-18.726",
         "37"
        ],
        [
         "2003",
         "-19.984",
         "37"
        ],
        [
         "2004",
         "-20.703",
         "37"
        ],
        [
         "2005",
         "-21.405",
         "37"
        ],
        [
         "2006",
         "-22.595",
         "37"
        ],
        [
         "2007",
         "-23.255",
         "37"
        ],
        [
         "2008",
         "-23.776",
         "37"
        ],
        [
         "2009",
         "-24.459",
         "37"
        ],
        [
         "2010",
         "-25.158",
         "37"
        ],
        [
         "2011",
         "-26.294",
         "37"
        ],
        [
         "2012",
         "-26.93",
         "36"
        ],
        [
         "2013",
         "-27.817",
         "31"
        ],
        [
         "2014",
         "-28.652",
         "24"
        ]
       ],
       "datasetInfos": [],
       "dbfsResultPath": null,
       "isJsonSchema": true,
       "metadata": {},
       "overflow": false,
       "plotOptions": {
        "customPlotOptions": {},
        "displayType": "table",
        "pivotAggregation": null,
        "pivotColumns": null,
        "xColumns": null,
        "yColumns": null
       },
       "removedWidgets": [],
       "schema": [
        {
         "metadata": "{}",
         "name": "Year",
         "type": "\"string\""
        },
        {
         "metadata": "{}",
         "name": "Mean cumulative mass balance",
         "type": "\"string\""
        },
        {
         "metadata": "{}",
         "name": "Number of observations",
         "type": "\"string\""
        }
       ],
       "type": "table"
      }
     },
     "output_type": "display_data"
    }
   ],
   "source": [
    "display(df)"
   ]
  },
  {
   "cell_type": "code",
   "execution_count": 0,
   "metadata": {
    "application/vnd.databricks.v1+cell": {
     "cellMetadata": {
      "byteLimit": 2048000,
      "rowLimit": 10000
     },
     "inputWidgets": {},
     "nuid": "cb4ccd24-0ca2-4ffe-b0b3-3e4c7e8ae1eb",
     "showTitle": false,
     "title": ""
    }
   },
   "outputs": [],
   "source": [
    "df.createOrReplaceTempView(\"df\")"
   ]
  },
  {
   "cell_type": "code",
   "execution_count": 0,
   "metadata": {
    "application/vnd.databricks.v1+cell": {
     "cellMetadata": {
      "byteLimit": 2048000,
      "implicitDf": true,
      "rowLimit": 10000
     },
     "inputWidgets": {},
     "nuid": "07a30dc3-43fa-4ddf-bb62-8cbc0dc4a7ed",
     "showTitle": false,
     "title": ""
    }
   },
   "outputs": [
    {
     "output_type": "display_data",
     "data": {
      "text/html": [
       "<style scoped>\n",
       "  .table-result-container {\n",
       "    max-height: 300px;\n",
       "    overflow: auto;\n",
       "  }\n",
       "  table, th, td {\n",
       "    border: 1px solid black;\n",
       "    border-collapse: collapse;\n",
       "  }\n",
       "  th, td {\n",
       "    padding: 5px;\n",
       "  }\n",
       "  th {\n",
       "    text-align: left;\n",
       "  }\n",
       "</style><div class='table-result-container'><table class='table-result'><thead style='background-color: white'><tr><th>Year</th><th>Mean cumulative mass balance</th><th>Number of observations</th></tr></thead><tbody><tr><td>1945</td><td>0</td><td>null</td></tr><tr><td>1946</td><td>-1.13</td><td>1</td></tr><tr><td>1947</td><td>-3.19</td><td>1</td></tr><tr><td>1948</td><td>-3.19</td><td>1</td></tr><tr><td>1949</td><td>-3.82</td><td>3</td></tr><tr><td>1950</td><td>-4.887</td><td>3</td></tr><tr><td>1951</td><td>-5.217</td><td>3</td></tr><tr><td>1952</td><td>-5.707</td><td>3</td></tr><tr><td>1953</td><td>-6.341</td><td>7</td></tr><tr><td>1954</td><td>-6.825</td><td>6</td></tr><tr><td>1955</td><td>-6.575</td><td>7</td></tr><tr><td>1956</td><td>-6.814</td><td>7</td></tr><tr><td>1957</td><td>-6.989</td><td>9</td></tr><tr><td>1958</td><td>-7.693</td><td>9</td></tr><tr><td>1959</td><td>-8.325</td><td>11</td></tr><tr><td>1960</td><td>-8.688</td><td>14</td></tr><tr><td>1961</td><td>-8.935</td><td>15</td></tr><tr><td>1962</td><td>-9.109</td><td>20</td></tr><tr><td>1963</td><td>-9.567</td><td>22</td></tr><tr><td>1964</td><td>-9.699</td><td>22</td></tr><tr><td>1965</td><td>-9.298</td><td>24</td></tr><tr><td>1966</td><td>-9.436</td><td>27</td></tr><tr><td>1967</td><td>-9.303</td><td>29</td></tr><tr><td>1968</td><td>-9.219</td><td>31</td></tr><tr><td>1969</td><td>-9.732</td><td>31</td></tr><tr><td>1970</td><td>-10.128</td><td>32</td></tr><tr><td>1971</td><td>-10.288</td><td>32</td></tr><tr><td>1972</td><td>-10.441</td><td>32</td></tr><tr><td>1973</td><td>-10.538</td><td>32</td></tr><tr><td>1974</td><td>-10.613</td><td>32</td></tr><tr><td>1975</td><td>-10.534</td><td>33</td></tr><tr><td>1976</td><td>-10.633</td><td>35</td></tr><tr><td>1977</td><td>-10.682</td><td>37</td></tr><tr><td>1978</td><td>-10.754</td><td>37</td></tr><tr><td>1979</td><td>-11.127</td><td>37</td></tr><tr><td>1980</td><td>-11.318</td><td>36</td></tr><tr><td>1981</td><td>-11.394</td><td>35</td></tr><tr><td>1982</td><td>-11.849</td><td>36</td></tr><tr><td>1983</td><td>-11.846</td><td>37</td></tr><tr><td>1984</td><td>-11.902</td><td>37</td></tr><tr><td>1985</td><td>-12.238</td><td>37</td></tr><tr><td>1986</td><td>-12.782</td><td>37</td></tr><tr><td>1987</td><td>-12.795</td><td>37</td></tr><tr><td>1988</td><td>-13.26</td><td>37</td></tr><tr><td>1989</td><td>-13.343</td><td>37</td></tr><tr><td>1990</td><td>-13.687</td><td>37</td></tr><tr><td>1991</td><td>-14.255</td><td>37</td></tr><tr><td>1992</td><td>-14.501</td><td>36</td></tr><tr><td>1993</td><td>-14.695</td><td>37</td></tr><tr><td>1994</td><td>-15.276</td><td>37</td></tr><tr><td>1995</td><td>-15.486</td><td>37</td></tr><tr><td>1996</td><td>-15.89</td><td>37</td></tr><tr><td>1997</td><td>-16.487</td><td>37</td></tr><tr><td>1998</td><td>-17.31</td><td>37</td></tr><tr><td>1999</td><td>-17.697</td><td>37</td></tr><tr><td>2000</td><td>-17.727</td><td>37</td></tr><tr><td>2001</td><td>-18.032</td><td>37</td></tr><tr><td>2002</td><td>-18.726</td><td>37</td></tr><tr><td>2003</td><td>-19.984</td><td>37</td></tr><tr><td>2004</td><td>-20.703</td><td>37</td></tr><tr><td>2005</td><td>-21.405</td><td>37</td></tr><tr><td>2006</td><td>-22.595</td><td>37</td></tr><tr><td>2007</td><td>-23.255</td><td>37</td></tr><tr><td>2008</td><td>-23.776</td><td>37</td></tr><tr><td>2009</td><td>-24.459</td><td>37</td></tr><tr><td>2010</td><td>-25.158</td><td>37</td></tr><tr><td>2011</td><td>-26.294</td><td>37</td></tr><tr><td>2012</td><td>-26.93</td><td>36</td></tr><tr><td>2013</td><td>-27.817</td><td>31</td></tr><tr><td>2014</td><td>-28.652</td><td>24</td></tr></tbody></table></div>"
      ]
     },
     "metadata": {
      "application/vnd.databricks.v1+output": {
       "addedWidgets": {},
       "aggData": [],
       "aggError": "",
       "aggOverflow": false,
       "aggSchema": [],
       "aggSeriesLimitReached": false,
       "aggType": "",
       "arguments": {},
       "columnCustomDisplayInfos": {},
       "data": [
        [
         "1945",
         "0",
         null
        ],
        [
         "1946",
         "-1.13",
         "1"
        ],
        [
         "1947",
         "-3.19",
         "1"
        ],
        [
         "1948",
         "-3.19",
         "1"
        ],
        [
         "1949",
         "-3.82",
         "3"
        ],
        [
         "1950",
         "-4.887",
         "3"
        ],
        [
         "1951",
         "-5.217",
         "3"
        ],
        [
         "1952",
         "-5.707",
         "3"
        ],
        [
         "1953",
         "-6.341",
         "7"
        ],
        [
         "1954",
         "-6.825",
         "6"
        ],
        [
         "1955",
         "-6.575",
         "7"
        ],
        [
         "1956",
         "-6.814",
         "7"
        ],
        [
         "1957",
         "-6.989",
         "9"
        ],
        [
         "1958",
         "-7.693",
         "9"
        ],
        [
         "1959",
         "-8.325",
         "11"
        ],
        [
         "1960",
         "-8.688",
         "14"
        ],
        [
         "1961",
         "-8.935",
         "15"
        ],
        [
         "1962",
         "-9.109",
         "20"
        ],
        [
         "1963",
         "-9.567",
         "22"
        ],
        [
         "1964",
         "-9.699",
         "22"
        ],
        [
         "1965",
         "-9.298",
         "24"
        ],
        [
         "1966",
         "-9.436",
         "27"
        ],
        [
         "1967",
         "-9.303",
         "29"
        ],
        [
         "1968",
         "-9.219",
         "31"
        ],
        [
         "1969",
         "-9.732",
         "31"
        ],
        [
         "1970",
         "-10.128",
         "32"
        ],
        [
         "1971",
         "-10.288",
         "32"
        ],
        [
         "1972",
         "-10.441",
         "32"
        ],
        [
         "1973",
         "-10.538",
         "32"
        ],
        [
         "1974",
         "-10.613",
         "32"
        ],
        [
         "1975",
         "-10.534",
         "33"
        ],
        [
         "1976",
         "-10.633",
         "35"
        ],
        [
         "1977",
         "-10.682",
         "37"
        ],
        [
         "1978",
         "-10.754",
         "37"
        ],
        [
         "1979",
         "-11.127",
         "37"
        ],
        [
         "1980",
         "-11.318",
         "36"
        ],
        [
         "1981",
         "-11.394",
         "35"
        ],
        [
         "1982",
         "-11.849",
         "36"
        ],
        [
         "1983",
         "-11.846",
         "37"
        ],
        [
         "1984",
         "-11.902",
         "37"
        ],
        [
         "1985",
         "-12.238",
         "37"
        ],
        [
         "1986",
         "-12.782",
         "37"
        ],
        [
         "1987",
         "-12.795",
         "37"
        ],
        [
         "1988",
         "-13.26",
         "37"
        ],
        [
         "1989",
         "-13.343",
         "37"
        ],
        [
         "1990",
         "-13.687",
         "37"
        ],
        [
         "1991",
         "-14.255",
         "37"
        ],
        [
         "1992",
         "-14.501",
         "36"
        ],
        [
         "1993",
         "-14.695",
         "37"
        ],
        [
         "1994",
         "-15.276",
         "37"
        ],
        [
         "1995",
         "-15.486",
         "37"
        ],
        [
         "1996",
         "-15.89",
         "37"
        ],
        [
         "1997",
         "-16.487",
         "37"
        ],
        [
         "1998",
         "-17.31",
         "37"
        ],
        [
         "1999",
         "-17.697",
         "37"
        ],
        [
         "2000",
         "-17.727",
         "37"
        ],
        [
         "2001",
         "-18.032",
         "37"
        ],
        [
         "2002",
         "-18.726",
         "37"
        ],
        [
         "2003",
         "-19.984",
         "37"
        ],
        [
         "2004",
         "-20.703",
         "37"
        ],
        [
         "2005",
         "-21.405",
         "37"
        ],
        [
         "2006",
         "-22.595",
         "37"
        ],
        [
         "2007",
         "-23.255",
         "37"
        ],
        [
         "2008",
         "-23.776",
         "37"
        ],
        [
         "2009",
         "-24.459",
         "37"
        ],
        [
         "2010",
         "-25.158",
         "37"
        ],
        [
         "2011",
         "-26.294",
         "37"
        ],
        [
         "2012",
         "-26.93",
         "36"
        ],
        [
         "2013",
         "-27.817",
         "31"
        ],
        [
         "2014",
         "-28.652",
         "24"
        ]
       ],
       "datasetInfos": [],
       "dbfsResultPath": null,
       "isJsonSchema": true,
       "metadata": {
        "dataframeName": "_sqldf",
        "executionCount": 27
       },
       "overflow": false,
       "plotOptions": {
        "customPlotOptions": {},
        "displayType": "table",
        "pivotAggregation": null,
        "pivotColumns": null,
        "xColumns": null,
        "yColumns": null
       },
       "removedWidgets": [],
       "schema": [
        {
         "metadata": "{}",
         "name": "Year",
         "type": "\"string\""
        },
        {
         "metadata": "{}",
         "name": "Mean cumulative mass balance",
         "type": "\"string\""
        },
        {
         "metadata": "{}",
         "name": "Number of observations",
         "type": "\"string\""
        }
       ],
       "type": "table"
      }
     },
     "output_type": "display_data"
    }
   ],
   "source": [
    "%sql\n",
    "select * from df"
   ]
  },
  {
   "cell_type": "code",
   "execution_count": 0,
   "metadata": {
    "application/vnd.databricks.v1+cell": {
     "cellMetadata": {
      "byteLimit": 2048000,
      "implicitDf": true,
      "rowLimit": 10000
     },
     "inputWidgets": {},
     "nuid": "6f6dabef-448a-4db4-a42c-19abc529c22e",
     "showTitle": false,
     "title": ""
    }
   },
   "outputs": [
    {
     "output_type": "display_data",
     "data": {
      "text/html": [
       "<style scoped>\n",
       "  .table-result-container {\n",
       "    max-height: 300px;\n",
       "    overflow: auto;\n",
       "  }\n",
       "  table, th, td {\n",
       "    border: 1px solid black;\n",
       "    border-collapse: collapse;\n",
       "  }\n",
       "  th, td {\n",
       "    padding: 5px;\n",
       "  }\n",
       "  th {\n",
       "    text-align: left;\n",
       "  }\n",
       "</style><div class='table-result-container'><table class='table-result'><thead style='background-color: white'><tr></tr></thead><tbody></tbody></table></div>"
      ]
     },
     "metadata": {
      "application/vnd.databricks.v1+output": {
       "addedWidgets": {},
       "aggData": [],
       "aggError": "",
       "aggOverflow": false,
       "aggSchema": [],
       "aggSeriesLimitReached": false,
       "aggType": "",
       "arguments": {},
       "columnCustomDisplayInfos": {},
       "data": [],
       "datasetInfos": [],
       "dbfsResultPath": null,
       "isJsonSchema": true,
       "metadata": {
        "dataframeName": null
       },
       "overflow": false,
       "plotOptions": {
        "customPlotOptions": {},
        "displayType": "table",
        "pivotAggregation": null,
        "pivotColumns": null,
        "xColumns": null,
        "yColumns": null
       },
       "removedWidgets": [],
       "schema": [],
       "type": "table"
      }
     },
     "output_type": "display_data"
    }
   ],
   "source": [
    "%sql\n",
    "create or replace temp view nintys as select * from df where Year like '19%' order by Year asc;\n",
    "create or replace temp view modern as select * from df where Year like '20%' order by Year asc;"
   ]
  },
  {
   "cell_type": "code",
   "execution_count": 0,
   "metadata": {
    "application/vnd.databricks.v1+cell": {
     "cellMetadata": {
      "byteLimit": 2048000,
      "rowLimit": 10000
     },
     "inputWidgets": {},
     "nuid": "cab05e75-055f-4c5f-ab98-1d119468adc2",
     "showTitle": false,
     "title": ""
    }
   },
   "outputs": [],
   "source": [
    "nintys_df = spark.sql(\"select * from nintys\")\n",
    "modern_df = spark.sql(\"select * from modern\")\n"
   ]
  },
  {
   "cell_type": "code",
   "execution_count": 0,
   "metadata": {
    "application/vnd.databricks.v1+cell": {
     "cellMetadata": {
      "byteLimit": 2048000,
      "rowLimit": 10000
     },
     "inputWidgets": {},
     "nuid": "3987c54f-dbe5-442a-ada8-65150cb2a093",
     "showTitle": false,
     "title": ""
    }
   },
   "outputs": [],
   "source": [
    "def transform_data(df: DataFrame):\n",
    "    spark.sql(\"create or replace temp view nintys as select * from df where Year like '19%' order by Year asc;\")\n",
    "    nintys_df = spark.sql(\"select * from nintys\")\n",
    "    spark.sql(\"create or replace temp view modern as select * from df where Year like '20%' order by Year asc;\")\n",
    "    modern_df = spark.sql(\"select * from modern\")\n",
    "    return nintys_df, modern_df"
   ]
  },
  {
   "cell_type": "code",
   "execution_count": 0,
   "metadata": {
    "application/vnd.databricks.v1+cell": {
     "cellMetadata": {
      "byteLimit": 2048000,
      "rowLimit": 10000
     },
     "inputWidgets": {},
     "nuid": "c9fdc946-0b95-4e4e-a7d1-bbe5768a2f2f",
     "showTitle": false,
     "title": ""
    }
   },
   "outputs": [],
   "source": [
    "x, y = transform_data(df)"
   ]
  },
  {
   "cell_type": "code",
   "execution_count": 0,
   "metadata": {
    "application/vnd.databricks.v1+cell": {
     "cellMetadata": {
      "byteLimit": 2048000,
      "rowLimit": 10000
     },
     "inputWidgets": {},
     "nuid": "76447fb6-0ea6-4993-8269-88a3c84a96b7",
     "showTitle": false,
     "title": ""
    }
   },
   "outputs": [
    {
     "output_type": "display_data",
     "data": {
      "text/html": [
       "<style scoped>\n",
       "  .table-result-container {\n",
       "    max-height: 300px;\n",
       "    overflow: auto;\n",
       "  }\n",
       "  table, th, td {\n",
       "    border: 1px solid black;\n",
       "    border-collapse: collapse;\n",
       "  }\n",
       "  th, td {\n",
       "    padding: 5px;\n",
       "  }\n",
       "  th {\n",
       "    text-align: left;\n",
       "  }\n",
       "</style><div class='table-result-container'><table class='table-result'><thead style='background-color: white'><tr><th>Year</th><th>Mean cumulative mass balance</th><th>Number of observations</th></tr></thead><tbody><tr><td>2000</td><td>-17.727</td><td>37</td></tr><tr><td>2001</td><td>-18.032</td><td>37</td></tr><tr><td>2002</td><td>-18.726</td><td>37</td></tr><tr><td>2003</td><td>-19.984</td><td>37</td></tr><tr><td>2004</td><td>-20.703</td><td>37</td></tr><tr><td>2005</td><td>-21.405</td><td>37</td></tr><tr><td>2006</td><td>-22.595</td><td>37</td></tr><tr><td>2007</td><td>-23.255</td><td>37</td></tr><tr><td>2008</td><td>-23.776</td><td>37</td></tr><tr><td>2009</td><td>-24.459</td><td>37</td></tr><tr><td>2010</td><td>-25.158</td><td>37</td></tr><tr><td>2011</td><td>-26.294</td><td>37</td></tr><tr><td>2012</td><td>-26.93</td><td>36</td></tr><tr><td>2013</td><td>-27.817</td><td>31</td></tr><tr><td>2014</td><td>-28.652</td><td>24</td></tr></tbody></table></div>"
      ]
     },
     "metadata": {
      "application/vnd.databricks.v1+output": {
       "addedWidgets": {},
       "aggData": [],
       "aggError": "",
       "aggOverflow": false,
       "aggSchema": [],
       "aggSeriesLimitReached": false,
       "aggType": "",
       "arguments": {},
       "columnCustomDisplayInfos": {},
       "data": [
        [
         "2000",
         "-17.727",
         "37"
        ],
        [
         "2001",
         "-18.032",
         "37"
        ],
        [
         "2002",
         "-18.726",
         "37"
        ],
        [
         "2003",
         "-19.984",
         "37"
        ],
        [
         "2004",
         "-20.703",
         "37"
        ],
        [
         "2005",
         "-21.405",
         "37"
        ],
        [
         "2006",
         "-22.595",
         "37"
        ],
        [
         "2007",
         "-23.255",
         "37"
        ],
        [
         "2008",
         "-23.776",
         "37"
        ],
        [
         "2009",
         "-24.459",
         "37"
        ],
        [
         "2010",
         "-25.158",
         "37"
        ],
        [
         "2011",
         "-26.294",
         "37"
        ],
        [
         "2012",
         "-26.93",
         "36"
        ],
        [
         "2013",
         "-27.817",
         "31"
        ],
        [
         "2014",
         "-28.652",
         "24"
        ]
       ],
       "datasetInfos": [],
       "dbfsResultPath": null,
       "isJsonSchema": true,
       "metadata": {},
       "overflow": false,
       "plotOptions": {
        "customPlotOptions": {},
        "displayType": "table",
        "pivotAggregation": null,
        "pivotColumns": null,
        "xColumns": null,
        "yColumns": null
       },
       "removedWidgets": [],
       "schema": [
        {
         "metadata": "{}",
         "name": "Year",
         "type": "\"string\""
        },
        {
         "metadata": "{}",
         "name": "Mean cumulative mass balance",
         "type": "\"string\""
        },
        {
         "metadata": "{}",
         "name": "Number of observations",
         "type": "\"string\""
        }
       ],
       "type": "table"
      }
     },
     "output_type": "display_data"
    }
   ],
   "source": [
    "display(y)"
   ]
  },
  {
   "cell_type": "code",
   "execution_count": 0,
   "metadata": {
    "application/vnd.databricks.v1+cell": {
     "cellMetadata": {
      "byteLimit": 2048000,
      "rowLimit": 10000
     },
     "inputWidgets": {},
     "nuid": "80ee7e61-0726-4875-93f4-45554bed53a0",
     "showTitle": false,
     "title": ""
    }
   },
   "outputs": [],
   "source": [
    "nintys_filename = spark.sql(\"(select * from nintys order by Year ASC limit 1) union (select * from nintys order by Year DESC limit 1)\")\n",
    "modern_filename = spark.sql(\"(select * from modern order by Year ASC limit 1) union (select * from modern order by Year DESC limit 1)\")\n"
   ]
  },
  {
   "cell_type": "code",
   "execution_count": 0,
   "metadata": {
    "application/vnd.databricks.v1+cell": {
     "cellMetadata": {
      "byteLimit": 2048000,
      "rowLimit": 10000
     },
     "inputWidgets": {},
     "nuid": "ef662543-73fc-470d-9ed3-4bac233c7199",
     "showTitle": false,
     "title": ""
    }
   },
   "outputs": [
    {
     "output_type": "display_data",
     "data": {
      "text/html": [
       "<style scoped>\n",
       "  .table-result-container {\n",
       "    max-height: 300px;\n",
       "    overflow: auto;\n",
       "  }\n",
       "  table, th, td {\n",
       "    border: 1px solid black;\n",
       "    border-collapse: collapse;\n",
       "  }\n",
       "  th, td {\n",
       "    padding: 5px;\n",
       "  }\n",
       "  th {\n",
       "    text-align: left;\n",
       "  }\n",
       "</style><div class='table-result-container'><table class='table-result'><thead style='background-color: white'><tr><th>Year</th><th>Mean cumulative mass balance</th><th>Number of observations</th></tr></thead><tbody><tr><td>1945</td><td>0</td><td>null</td></tr><tr><td>1999</td><td>-17.697</td><td>37</td></tr></tbody></table></div>"
      ]
     },
     "metadata": {
      "application/vnd.databricks.v1+output": {
       "addedWidgets": {},
       "aggData": [],
       "aggError": "",
       "aggOverflow": false,
       "aggSchema": [],
       "aggSeriesLimitReached": false,
       "aggType": "",
       "arguments": {},
       "columnCustomDisplayInfos": {},
       "data": [
        [
         "1945",
         "0",
         null
        ],
        [
         "1999",
         "-17.697",
         "37"
        ]
       ],
       "datasetInfos": [],
       "dbfsResultPath": null,
       "isJsonSchema": true,
       "metadata": {},
       "overflow": false,
       "plotOptions": {
        "customPlotOptions": {},
        "displayType": "table",
        "pivotAggregation": null,
        "pivotColumns": null,
        "xColumns": null,
        "yColumns": null
       },
       "removedWidgets": [],
       "schema": [
        {
         "metadata": "{}",
         "name": "Year",
         "type": "\"string\""
        },
        {
         "metadata": "{}",
         "name": "Mean cumulative mass balance",
         "type": "\"string\""
        },
        {
         "metadata": "{}",
         "name": "Number of observations",
         "type": "\"string\""
        }
       ],
       "type": "table"
      }
     },
     "output_type": "display_data"
    }
   ],
   "source": [
    "display(nintys_filename)"
   ]
  },
  {
   "cell_type": "code",
   "execution_count": 0,
   "metadata": {
    "application/vnd.databricks.v1+cell": {
     "cellMetadata": {
      "byteLimit": 2048000,
      "rowLimit": 10000
     },
     "inputWidgets": {},
     "nuid": "7d84e8d7-13de-46a0-9961-4afc3ea31586",
     "showTitle": false,
     "title": ""
    }
   },
   "outputs": [
    {
     "output_type": "execute_result",
     "data": {
      "text/plain": [
       "'2000-2014'"
      ]
     },
     "execution_count": 41,
     "metadata": {},
     "output_type": "execute_result"
    }
   ],
   "source": [
    "modern_filename_df = modern_filename.collect()\n",
    "\n",
    "modern_filename_df[0].__getitem__('Year') + \"-\" + modern_filename_df[1].__getitem__('Year')"
   ]
  },
  {
   "cell_type": "code",
   "execution_count": 0,
   "metadata": {
    "application/vnd.databricks.v1+cell": {
     "cellMetadata": {
      "byteLimit": 2048000,
      "rowLimit": 10000
     },
     "inputWidgets": {},
     "nuid": "c62e538d-1fec-4bda-ab0c-462697ad4935",
     "showTitle": false,
     "title": ""
    }
   },
   "outputs": [],
   "source": [
    "def create_file_name():\n",
    "    nintys_filename = spark.sql(\"(select * from nintys order by Year ASC limit 1) union (select * from nintys order by Year DESC limit 1)\")\n",
    "    modern_filename = spark.sql(\"(select * from modern order by Year ASC limit 1) union (select * from modern order by Year DESC limit 1)\") \n",
    "    nintys_filename_df = nintys_filename.collect()\n",
    "    modern_filename_df = modern_filename.collect()\n",
    "    nintys_filename = nintys_filename_df[0].__getitem__('Year') + \"-\" + nintys_filename_df[1].__getitem__('Year') \n",
    "    modern_filename = modern_filename_df[0].__getitem__('Year') + \"-\" + modern_filename_df[1].__getitem__('Year')\n",
    "    return nintys_filename, modern_filename"
   ]
  },
  {
   "cell_type": "code",
   "execution_count": 0,
   "metadata": {
    "application/vnd.databricks.v1+cell": {
     "cellMetadata": {
      "byteLimit": 2048000,
      "rowLimit": 10000
     },
     "inputWidgets": {},
     "nuid": "7b103cab-d026-46a6-b362-5e0777e7e4a7",
     "showTitle": false,
     "title": ""
    }
   },
   "outputs": [],
   "source": [
    "m, n = create_file_name()"
   ]
  },
  {
   "cell_type": "code",
   "execution_count": 0,
   "metadata": {
    "application/vnd.databricks.v1+cell": {
     "cellMetadata": {
      "byteLimit": 2048000,
      "rowLimit": 10000
     },
     "inputWidgets": {},
     "nuid": "ecbb14c3-ac4d-4c31-af6a-69cd1e0f6b97",
     "showTitle": false,
     "title": ""
    }
   },
   "outputs": [],
   "source": [
    "def write_df(file_type: str, dfs, file_names):\n",
    "    for x, y in zip(dfs, file_names):\n",
    "        m = x.write.format(file_type).save(\"/dbfs/{}.{}\".format(y, file_type))\n",
    "        "
   ]
  },
  {
   "cell_type": "code",
   "execution_count": 0,
   "metadata": {
    "application/vnd.databricks.v1+cell": {
     "cellMetadata": {
      "byteLimit": 2048000,
      "rowLimit": 10000
     },
     "inputWidgets": {},
     "nuid": "8b25f9b7-95ba-4e69-9908-59fe26fbb064",
     "showTitle": false,
     "title": ""
    }
   },
   "outputs": [
    {
     "output_type": "display_data",
     "data": {
      "text/html": [
       "<style scoped>\n",
       "  .table-result-container {\n",
       "    max-height: 300px;\n",
       "    overflow: auto;\n",
       "  }\n",
       "  table, th, td {\n",
       "    border: 1px solid black;\n",
       "    border-collapse: collapse;\n",
       "  }\n",
       "  th, td {\n",
       "    padding: 5px;\n",
       "  }\n",
       "  th {\n",
       "    text-align: left;\n",
       "  }\n",
       "</style><div class='table-result-container'><table class='table-result'><thead style='background-color: white'><tr><th>Year</th><th>Mean cumulative mass balance</th><th>Number of observations</th></tr></thead><tbody><tr><td>1945</td><td>0</td><td>null</td></tr><tr><td>1946</td><td>-1.13</td><td>1</td></tr><tr><td>1947</td><td>-3.19</td><td>1</td></tr><tr><td>1948</td><td>-3.19</td><td>1</td></tr><tr><td>1949</td><td>-3.82</td><td>3</td></tr><tr><td>1950</td><td>-4.887</td><td>3</td></tr><tr><td>1951</td><td>-5.217</td><td>3</td></tr><tr><td>1952</td><td>-5.707</td><td>3</td></tr><tr><td>1953</td><td>-6.341</td><td>7</td></tr><tr><td>1954</td><td>-6.825</td><td>6</td></tr><tr><td>1955</td><td>-6.575</td><td>7</td></tr><tr><td>1956</td><td>-6.814</td><td>7</td></tr><tr><td>1957</td><td>-6.989</td><td>9</td></tr><tr><td>1958</td><td>-7.693</td><td>9</td></tr><tr><td>1959</td><td>-8.325</td><td>11</td></tr><tr><td>1960</td><td>-8.688</td><td>14</td></tr><tr><td>1961</td><td>-8.935</td><td>15</td></tr><tr><td>1962</td><td>-9.109</td><td>20</td></tr><tr><td>1963</td><td>-9.567</td><td>22</td></tr><tr><td>1964</td><td>-9.699</td><td>22</td></tr><tr><td>1965</td><td>-9.298</td><td>24</td></tr><tr><td>1966</td><td>-9.436</td><td>27</td></tr><tr><td>1967</td><td>-9.303</td><td>29</td></tr><tr><td>1968</td><td>-9.219</td><td>31</td></tr><tr><td>1969</td><td>-9.732</td><td>31</td></tr><tr><td>1970</td><td>-10.128</td><td>32</td></tr><tr><td>1971</td><td>-10.288</td><td>32</td></tr><tr><td>1972</td><td>-10.441</td><td>32</td></tr><tr><td>1973</td><td>-10.538</td><td>32</td></tr><tr><td>1974</td><td>-10.613</td><td>32</td></tr><tr><td>1975</td><td>-10.534</td><td>33</td></tr><tr><td>1976</td><td>-10.633</td><td>35</td></tr><tr><td>1977</td><td>-10.682</td><td>37</td></tr><tr><td>1978</td><td>-10.754</td><td>37</td></tr><tr><td>1979</td><td>-11.127</td><td>37</td></tr><tr><td>1980</td><td>-11.318</td><td>36</td></tr><tr><td>1981</td><td>-11.394</td><td>35</td></tr><tr><td>1982</td><td>-11.849</td><td>36</td></tr><tr><td>1983</td><td>-11.846</td><td>37</td></tr><tr><td>1984</td><td>-11.902</td><td>37</td></tr><tr><td>1985</td><td>-12.238</td><td>37</td></tr><tr><td>1986</td><td>-12.782</td><td>37</td></tr><tr><td>1987</td><td>-12.795</td><td>37</td></tr><tr><td>1988</td><td>-13.26</td><td>37</td></tr><tr><td>1989</td><td>-13.343</td><td>37</td></tr><tr><td>1990</td><td>-13.687</td><td>37</td></tr><tr><td>1991</td><td>-14.255</td><td>37</td></tr><tr><td>1992</td><td>-14.501</td><td>36</td></tr><tr><td>1993</td><td>-14.695</td><td>37</td></tr><tr><td>1994</td><td>-15.276</td><td>37</td></tr><tr><td>1995</td><td>-15.486</td><td>37</td></tr><tr><td>1996</td><td>-15.89</td><td>37</td></tr><tr><td>1997</td><td>-16.487</td><td>37</td></tr><tr><td>1998</td><td>-17.31</td><td>37</td></tr><tr><td>1999</td><td>-17.697</td><td>37</td></tr></tbody></table></div>"
      ]
     },
     "metadata": {
      "application/vnd.databricks.v1+output": {
       "addedWidgets": {},
       "aggData": [],
       "aggError": "",
       "aggOverflow": false,
       "aggSchema": [],
       "aggSeriesLimitReached": false,
       "aggType": "",
       "arguments": {},
       "columnCustomDisplayInfos": {},
       "data": [
        [
         "1945",
         "0",
         null
        ],
        [
         "1946",
         "-1.13",
         "1"
        ],
        [
         "1947",
         "-3.19",
         "1"
        ],
        [
         "1948",
         "-3.19",
         "1"
        ],
        [
         "1949",
         "-3.82",
         "3"
        ],
        [
         "1950",
         "-4.887",
         "3"
        ],
        [
         "1951",
         "-5.217",
         "3"
        ],
        [
         "1952",
         "-5.707",
         "3"
        ],
        [
         "1953",
         "-6.341",
         "7"
        ],
        [
         "1954",
         "-6.825",
         "6"
        ],
        [
         "1955",
         "-6.575",
         "7"
        ],
        [
         "1956",
         "-6.814",
         "7"
        ],
        [
         "1957",
         "-6.989",
         "9"
        ],
        [
         "1958",
         "-7.693",
         "9"
        ],
        [
         "1959",
         "-8.325",
         "11"
        ],
        [
         "1960",
         "-8.688",
         "14"
        ],
        [
         "1961",
         "-8.935",
         "15"
        ],
        [
         "1962",
         "-9.109",
         "20"
        ],
        [
         "1963",
         "-9.567",
         "22"
        ],
        [
         "1964",
         "-9.699",
         "22"
        ],
        [
         "1965",
         "-9.298",
         "24"
        ],
        [
         "1966",
         "-9.436",
         "27"
        ],
        [
         "1967",
         "-9.303",
         "29"
        ],
        [
         "1968",
         "-9.219",
         "31"
        ],
        [
         "1969",
         "-9.732",
         "31"
        ],
        [
         "1970",
         "-10.128",
         "32"
        ],
        [
         "1971",
         "-10.288",
         "32"
        ],
        [
         "1972",
         "-10.441",
         "32"
        ],
        [
         "1973",
         "-10.538",
         "32"
        ],
        [
         "1974",
         "-10.613",
         "32"
        ],
        [
         "1975",
         "-10.534",
         "33"
        ],
        [
         "1976",
         "-10.633",
         "35"
        ],
        [
         "1977",
         "-10.682",
         "37"
        ],
        [
         "1978",
         "-10.754",
         "37"
        ],
        [
         "1979",
         "-11.127",
         "37"
        ],
        [
         "1980",
         "-11.318",
         "36"
        ],
        [
         "1981",
         "-11.394",
         "35"
        ],
        [
         "1982",
         "-11.849",
         "36"
        ],
        [
         "1983",
         "-11.846",
         "37"
        ],
        [
         "1984",
         "-11.902",
         "37"
        ],
        [
         "1985",
         "-12.238",
         "37"
        ],
        [
         "1986",
         "-12.782",
         "37"
        ],
        [
         "1987",
         "-12.795",
         "37"
        ],
        [
         "1988",
         "-13.26",
         "37"
        ],
        [
         "1989",
         "-13.343",
         "37"
        ],
        [
         "1990",
         "-13.687",
         "37"
        ],
        [
         "1991",
         "-14.255",
         "37"
        ],
        [
         "1992",
         "-14.501",
         "36"
        ],
        [
         "1993",
         "-14.695",
         "37"
        ],
        [
         "1994",
         "-15.276",
         "37"
        ],
        [
         "1995",
         "-15.486",
         "37"
        ],
        [
         "1996",
         "-15.89",
         "37"
        ],
        [
         "1997",
         "-16.487",
         "37"
        ],
        [
         "1998",
         "-17.31",
         "37"
        ],
        [
         "1999",
         "-17.697",
         "37"
        ]
       ],
       "datasetInfos": [],
       "dbfsResultPath": null,
       "isJsonSchema": true,
       "metadata": {},
       "overflow": false,
       "plotOptions": {
        "customPlotOptions": {},
        "displayType": "table",
        "pivotAggregation": null,
        "pivotColumns": null,
        "xColumns": null,
        "yColumns": null
       },
       "removedWidgets": [],
       "schema": [
        {
         "metadata": "{}",
         "name": "Year",
         "type": "\"string\""
        },
        {
         "metadata": "{}",
         "name": "Mean cumulative mass balance",
         "type": "\"string\""
        },
        {
         "metadata": "{}",
         "name": "Number of observations",
         "type": "\"string\""
        }
       ],
       "type": "table"
      }
     },
     "output_type": "display_data"
    },
    {
     "output_type": "execute_result",
     "data": {
      "text/plain": [
       "'1945-1999'"
      ]
     },
     "execution_count": 49,
     "metadata": {},
     "output_type": "execute_result"
    }
   ],
   "source": [
    "display(x)\n",
    "m"
   ]
  },
  {
   "cell_type": "code",
   "execution_count": 0,
   "metadata": {
    "application/vnd.databricks.v1+cell": {
     "cellMetadata": {
      "byteLimit": 2048000,
      "rowLimit": 10000
     },
     "inputWidgets": {},
     "nuid": "fc761d33-b9bb-4f88-8a54-c90f50b954a0",
     "showTitle": false,
     "title": ""
    }
   },
   "outputs": [
    {
     "output_type": "display_data",
     "data": {
      "text/html": [
       "<style scoped>\n",
       "  .table-result-container {\n",
       "    max-height: 300px;\n",
       "    overflow: auto;\n",
       "  }\n",
       "  table, th, td {\n",
       "    border: 1px solid black;\n",
       "    border-collapse: collapse;\n",
       "  }\n",
       "  th, td {\n",
       "    padding: 5px;\n",
       "  }\n",
       "  th {\n",
       "    text-align: left;\n",
       "  }\n",
       "</style><div class='table-result-container'><table class='table-result'><thead style='background-color: white'><tr><th>Year</th><th>Mean cumulative mass balance</th><th>Number of observations</th></tr></thead><tbody><tr><td>2000</td><td>-17.727</td><td>37</td></tr><tr><td>2001</td><td>-18.032</td><td>37</td></tr><tr><td>2002</td><td>-18.726</td><td>37</td></tr><tr><td>2003</td><td>-19.984</td><td>37</td></tr><tr><td>2004</td><td>-20.703</td><td>37</td></tr><tr><td>2005</td><td>-21.405</td><td>37</td></tr><tr><td>2006</td><td>-22.595</td><td>37</td></tr><tr><td>2007</td><td>-23.255</td><td>37</td></tr><tr><td>2008</td><td>-23.776</td><td>37</td></tr><tr><td>2009</td><td>-24.459</td><td>37</td></tr><tr><td>2010</td><td>-25.158</td><td>37</td></tr><tr><td>2011</td><td>-26.294</td><td>37</td></tr><tr><td>2012</td><td>-26.93</td><td>36</td></tr><tr><td>2013</td><td>-27.817</td><td>31</td></tr><tr><td>2014</td><td>-28.652</td><td>24</td></tr></tbody></table></div>"
      ]
     },
     "metadata": {
      "application/vnd.databricks.v1+output": {
       "addedWidgets": {},
       "aggData": [],
       "aggError": "",
       "aggOverflow": false,
       "aggSchema": [],
       "aggSeriesLimitReached": false,
       "aggType": "",
       "arguments": {},
       "columnCustomDisplayInfos": {},
       "data": [
        [
         "2000",
         "-17.727",
         "37"
        ],
        [
         "2001",
         "-18.032",
         "37"
        ],
        [
         "2002",
         "-18.726",
         "37"
        ],
        [
         "2003",
         "-19.984",
         "37"
        ],
        [
         "2004",
         "-20.703",
         "37"
        ],
        [
         "2005",
         "-21.405",
         "37"
        ],
        [
         "2006",
         "-22.595",
         "37"
        ],
        [
         "2007",
         "-23.255",
         "37"
        ],
        [
         "2008",
         "-23.776",
         "37"
        ],
        [
         "2009",
         "-24.459",
         "37"
        ],
        [
         "2010",
         "-25.158",
         "37"
        ],
        [
         "2011",
         "-26.294",
         "37"
        ],
        [
         "2012",
         "-26.93",
         "36"
        ],
        [
         "2013",
         "-27.817",
         "31"
        ],
        [
         "2014",
         "-28.652",
         "24"
        ]
       ],
       "datasetInfos": [],
       "dbfsResultPath": null,
       "isJsonSchema": true,
       "metadata": {},
       "overflow": false,
       "plotOptions": {
        "customPlotOptions": {},
        "displayType": "table",
        "pivotAggregation": null,
        "pivotColumns": null,
        "xColumns": null,
        "yColumns": null
       },
       "removedWidgets": [],
       "schema": [
        {
         "metadata": "{}",
         "name": "Year",
         "type": "\"string\""
        },
        {
         "metadata": "{}",
         "name": "Mean cumulative mass balance",
         "type": "\"string\""
        },
        {
         "metadata": "{}",
         "name": "Number of observations",
         "type": "\"string\""
        }
       ],
       "type": "table"
      }
     },
     "output_type": "display_data"
    },
    {
     "output_type": "execute_result",
     "data": {
      "text/plain": [
       "'2000-2014'"
      ]
     },
     "execution_count": 50,
     "metadata": {},
     "output_type": "execute_result"
    }
   ],
   "source": [
    "display(y)\n",
    "n"
   ]
  },
  {
   "cell_type": "code",
   "execution_count": 0,
   "metadata": {
    "application/vnd.databricks.v1+cell": {
     "cellMetadata": {
      "byteLimit": 2048000,
      "rowLimit": 10000
     },
     "inputWidgets": {},
     "nuid": "236b9422-dbc4-41d1-bde7-c68f4fef2e90",
     "showTitle": false,
     "title": ""
    }
   },
   "outputs": [],
   "source": [
    "write_df(\"parquet\", [x,y], [m, n])"
   ]
  },
  {
   "cell_type": "code",
   "execution_count": 0,
   "metadata": {
    "application/vnd.databricks.v1+cell": {
     "cellMetadata": {
      "byteLimit": 2048000,
      "rowLimit": 10000
     },
     "inputWidgets": {},
     "nuid": "95e298da-88ae-4aa0-bfad-20938197ff3c",
     "showTitle": false,
     "title": ""
    }
   },
   "outputs": [
    {
     "output_type": "execute_result",
     "data": {
      "text/plain": [
       "[FileInfo(path='dbfs:/dbfs/1945-1999.parquet/', name='1945-1999.parquet/', size=0, modificationTime=0),\n",
       " FileInfo(path='dbfs:/dbfs/2000-2014.parquet/', name='2000-2014.parquet/', size=0, modificationTime=0)]"
      ]
     },
     "execution_count": 53,
     "metadata": {},
     "output_type": "execute_result"
    }
   ],
   "source": [
    "dbutils.fs.ls('/dbfs/')"
   ]
  },
  {
   "cell_type": "code",
   "execution_count": 0,
   "metadata": {
    "application/vnd.databricks.v1+cell": {
     "cellMetadata": {},
     "inputWidgets": {},
     "nuid": "f8656fe3-1fa6-4c85-943e-fa07563ae719",
     "showTitle": false,
     "title": ""
    }
   },
   "outputs": [],
   "source": []
  }
 ],
 "metadata": {
  "application/vnd.databricks.v1+notebook": {
   "dashboards": [],
   "language": "python",
   "notebookMetadata": {
    "mostRecentlyExecutedCommandWithImplicitDF": {
     "commandId": 1145185718514396,
     "dataframes": [
      "_sqldf"
     ]
    },
    "pythonIndentUnit": 4
   },
   "notebookName": "ETL pipeline",
   "widgets": {}
  }
 },
 "nbformat": 4,
 "nbformat_minor": 0
}
